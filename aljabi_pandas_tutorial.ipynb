{
 "cells": [
  {
   "cell_type": "markdown",
   "metadata": {},
   "source": [
    "## Pandas Tutorial\n",
    "#### **Created by Louai Al Jabi**\n",
    "\n",
    "(revised 1/30/22)\n",
    "\n",
    "### Overview\n",
    "\n",
    "In this tutorial you will be completing a tutorial on the pandas package. It will probably take from 3-4 hours to complete the pandas tutorial, so I recommend starting early and completing the tutorial over multiple work sessions.\n",
    "\n",
    "### Details\n",
    "\n",
    "Before beginning the tutorial you should make sure that the following packages are installed in your python environment:  \n",
    "`pandas requests matplotlib`  \n",
    "\n",
    "You can use the `conda list` or `pip list` commands to list the packages in your environment. If there are too many packages to see on one page of output in your terminal you can pipe the result of the command to the `less` pager:  \n",
    "\n",
    "```\n",
    "conda list | less\n",
    "```\n",
    "\n",
    "This displays output one \"page\" at a time. In the `less` pager you use the space bar to advance by a page in the output, `b` to go back by a page, and `q` to quit. You can also use the arrow keys to go backward or forward one line at a time.\n",
    "\n",
    "#### As you work through the tutorial do the following\n",
    "\n",
    "* Read the tutorial text carefully. The text explains a lot of important concepts about pandas and about the code examples"
   ]
  },
  {
   "cell_type": "markdown",
   "metadata": {},
   "source": [
    "# Pandas \n",
    "\n",
    "### Using Pandas and Python to explore dataset\n",
    "* Do you have a large dataset that’s full of interesting insights, but you’re not sure where to start exploring it? Has your boss asked you to generate some statistics from it, but they’re not so easy to extract? These are precisely the use cases where Pandas and Python can help you! With these tools, you’ll be able to slice a large dataset down into manageable parts and glean insight from that information.\n",
    "\n",
    "**In this tutorial, you will learn:**\n",
    "* **Calculate** metrics about your data\n",
    "* **Perform** basic queries and aggregations\n",
    "* **Discover** and handle incorrect data, inconsistencies, and missing values\n",
    "* **Visualize** your data with plots"
   ]
  },
  {
   "cell_type": "markdown",
   "metadata": {},
   "source": [
    "### Using the Pandas Python Library\n",
    "\n",
    "* It’s time to have a look at a dataset. In this tutorial, you’ll analyze NBA results provided by FiveThirtyEight in a 17MB CSV file. Create a script download_nba_all_elo.py to download the data:"
   ]
  },
  {
   "cell_type": "code",
   "execution_count": 1,
   "metadata": {},
   "outputs": [
    {
     "name": "stdout",
     "output_type": "stream",
     "text": [
      "Download ready.\n"
     ]
    }
   ],
   "source": [
    "import requests\n",
    "\n",
    "download_url = \"https://raw.githubusercontent.com/fivethirtyeight/data/master/nba-elo/nbaallelo.csv\"\n",
    "target_csv_path = \"nba_all_elo.csv\"\n",
    "\n",
    "response = requests.get(download_url)\n",
    "response.raise_for_status()    # Check that the request was successful\n",
    "with open(target_csv_path, \"wb\") as f:\n",
    "    f.write(response.content)\n",
    "print(\"Download ready.\")"
   ]
  },
  {
   "cell_type": "markdown",
   "metadata": {},
   "source": [
    "* When you execute the script, it will save the file nba_all_elo.csv in your current working directory.\n",
    "* Now you can use the Pandas Python library to take a look at your data.\n",
    "* Use `.read_csv()` to read in your dataset and store it as a DataFrame object in the variable nba:"
   ]
  },
  {
   "cell_type": "code",
   "execution_count": 2,
   "metadata": {},
   "outputs": [
    {
     "data": {
      "text/plain": [
       "pandas.core.frame.DataFrame"
      ]
     },
     "execution_count": 2,
     "metadata": {},
     "output_type": "execute_result"
    }
   ],
   "source": [
    "import pandas as pd\n",
    "# Here, you follow the convention of importing Pandas in Python with the pd alias\n",
    "\n",
    "nba = pd.read_csv(\"nba_all_elo.csv\")\n",
    "type(nba)"
   ]
  },
  {
   "cell_type": "code",
   "execution_count": 4,
   "metadata": {},
   "outputs": [
    {
     "name": "stdout",
     "output_type": "stream",
     "text": [
      "126314\n",
      "(126314, 23)\n"
     ]
    }
   ],
   "source": [
    "# You can see how much data nba contains:\n",
    "print(len(nba))\n",
    "print(nba.shape)"
   ]
  },
  {
   "cell_type": "markdown",
   "metadata": {},
   "source": [
    "* You use the Python built-in function `len()` to determine the number of rows. You also use the `.shape` attribute of the DataFrame to see its **dimensionality**. The result is a tuple containing the number of rows and columns.\n",
    "* Now you know that there are 126,314 rows and 23 columns in your dataset. But how can you be sure the dataset really contains basketball stats? You can have a look at the first five rows with `.head()`:"
   ]
  },
  {
   "cell_type": "code",
   "execution_count": 5,
   "metadata": {},
   "outputs": [
    {
     "data": {
      "text/html": [
       "<div>\n",
       "<style scoped>\n",
       "    .dataframe tbody tr th:only-of-type {\n",
       "        vertical-align: middle;\n",
       "    }\n",
       "\n",
       "    .dataframe tbody tr th {\n",
       "        vertical-align: top;\n",
       "    }\n",
       "\n",
       "    .dataframe thead th {\n",
       "        text-align: right;\n",
       "    }\n",
       "</style>\n",
       "<table border=\"1\" class=\"dataframe\">\n",
       "  <thead>\n",
       "    <tr style=\"text-align: right;\">\n",
       "      <th></th>\n",
       "      <th>gameorder</th>\n",
       "      <th>game_id</th>\n",
       "      <th>lg_id</th>\n",
       "      <th>_iscopy</th>\n",
       "      <th>year_id</th>\n",
       "      <th>date_game</th>\n",
       "      <th>seasongame</th>\n",
       "      <th>is_playoffs</th>\n",
       "      <th>team_id</th>\n",
       "      <th>fran_id</th>\n",
       "      <th>...</th>\n",
       "      <th>win_equiv</th>\n",
       "      <th>opp_id</th>\n",
       "      <th>opp_fran</th>\n",
       "      <th>opp_pts</th>\n",
       "      <th>opp_elo_i</th>\n",
       "      <th>opp_elo_n</th>\n",
       "      <th>game_location</th>\n",
       "      <th>game_result</th>\n",
       "      <th>forecast</th>\n",
       "      <th>notes</th>\n",
       "    </tr>\n",
       "  </thead>\n",
       "  <tbody>\n",
       "    <tr>\n",
       "      <th>0</th>\n",
       "      <td>1</td>\n",
       "      <td>194611010TRH</td>\n",
       "      <td>NBA</td>\n",
       "      <td>0</td>\n",
       "      <td>1947</td>\n",
       "      <td>11/1/1946</td>\n",
       "      <td>1</td>\n",
       "      <td>0</td>\n",
       "      <td>TRH</td>\n",
       "      <td>Huskies</td>\n",
       "      <td>...</td>\n",
       "      <td>40.294830</td>\n",
       "      <td>NYK</td>\n",
       "      <td>Knicks</td>\n",
       "      <td>68</td>\n",
       "      <td>1300.0000</td>\n",
       "      <td>1306.7233</td>\n",
       "      <td>H</td>\n",
       "      <td>L</td>\n",
       "      <td>0.640065</td>\n",
       "      <td>NaN</td>\n",
       "    </tr>\n",
       "    <tr>\n",
       "      <th>1</th>\n",
       "      <td>1</td>\n",
       "      <td>194611010TRH</td>\n",
       "      <td>NBA</td>\n",
       "      <td>1</td>\n",
       "      <td>1947</td>\n",
       "      <td>11/1/1946</td>\n",
       "      <td>1</td>\n",
       "      <td>0</td>\n",
       "      <td>NYK</td>\n",
       "      <td>Knicks</td>\n",
       "      <td>...</td>\n",
       "      <td>41.705170</td>\n",
       "      <td>TRH</td>\n",
       "      <td>Huskies</td>\n",
       "      <td>66</td>\n",
       "      <td>1300.0000</td>\n",
       "      <td>1293.2767</td>\n",
       "      <td>A</td>\n",
       "      <td>W</td>\n",
       "      <td>0.359935</td>\n",
       "      <td>NaN</td>\n",
       "    </tr>\n",
       "    <tr>\n",
       "      <th>2</th>\n",
       "      <td>2</td>\n",
       "      <td>194611020CHS</td>\n",
       "      <td>NBA</td>\n",
       "      <td>0</td>\n",
       "      <td>1947</td>\n",
       "      <td>11/2/1946</td>\n",
       "      <td>1</td>\n",
       "      <td>0</td>\n",
       "      <td>CHS</td>\n",
       "      <td>Stags</td>\n",
       "      <td>...</td>\n",
       "      <td>42.012257</td>\n",
       "      <td>NYK</td>\n",
       "      <td>Knicks</td>\n",
       "      <td>47</td>\n",
       "      <td>1306.7233</td>\n",
       "      <td>1297.0712</td>\n",
       "      <td>H</td>\n",
       "      <td>W</td>\n",
       "      <td>0.631101</td>\n",
       "      <td>NaN</td>\n",
       "    </tr>\n",
       "    <tr>\n",
       "      <th>3</th>\n",
       "      <td>2</td>\n",
       "      <td>194611020CHS</td>\n",
       "      <td>NBA</td>\n",
       "      <td>1</td>\n",
       "      <td>1947</td>\n",
       "      <td>11/2/1946</td>\n",
       "      <td>2</td>\n",
       "      <td>0</td>\n",
       "      <td>NYK</td>\n",
       "      <td>Knicks</td>\n",
       "      <td>...</td>\n",
       "      <td>40.692783</td>\n",
       "      <td>CHS</td>\n",
       "      <td>Stags</td>\n",
       "      <td>63</td>\n",
       "      <td>1300.0000</td>\n",
       "      <td>1309.6521</td>\n",
       "      <td>A</td>\n",
       "      <td>L</td>\n",
       "      <td>0.368899</td>\n",
       "      <td>NaN</td>\n",
       "    </tr>\n",
       "    <tr>\n",
       "      <th>4</th>\n",
       "      <td>3</td>\n",
       "      <td>194611020DTF</td>\n",
       "      <td>NBA</td>\n",
       "      <td>0</td>\n",
       "      <td>1947</td>\n",
       "      <td>11/2/1946</td>\n",
       "      <td>1</td>\n",
       "      <td>0</td>\n",
       "      <td>DTF</td>\n",
       "      <td>Falcons</td>\n",
       "      <td>...</td>\n",
       "      <td>38.864048</td>\n",
       "      <td>WSC</td>\n",
       "      <td>Capitols</td>\n",
       "      <td>50</td>\n",
       "      <td>1300.0000</td>\n",
       "      <td>1320.3811</td>\n",
       "      <td>H</td>\n",
       "      <td>L</td>\n",
       "      <td>0.640065</td>\n",
       "      <td>NaN</td>\n",
       "    </tr>\n",
       "  </tbody>\n",
       "</table>\n",
       "<p>5 rows × 23 columns</p>\n",
       "</div>"
      ],
      "text/plain": [
       "   gameorder       game_id lg_id  _iscopy  year_id  date_game  seasongame  \\\n",
       "0          1  194611010TRH   NBA        0     1947  11/1/1946           1   \n",
       "1          1  194611010TRH   NBA        1     1947  11/1/1946           1   \n",
       "2          2  194611020CHS   NBA        0     1947  11/2/1946           1   \n",
       "3          2  194611020CHS   NBA        1     1947  11/2/1946           2   \n",
       "4          3  194611020DTF   NBA        0     1947  11/2/1946           1   \n",
       "\n",
       "   is_playoffs team_id  fran_id  ...  win_equiv  opp_id  opp_fran  opp_pts  \\\n",
       "0            0     TRH  Huskies  ...  40.294830     NYK    Knicks       68   \n",
       "1            0     NYK   Knicks  ...  41.705170     TRH   Huskies       66   \n",
       "2            0     CHS    Stags  ...  42.012257     NYK    Knicks       47   \n",
       "3            0     NYK   Knicks  ...  40.692783     CHS     Stags       63   \n",
       "4            0     DTF  Falcons  ...  38.864048     WSC  Capitols       50   \n",
       "\n",
       "   opp_elo_i  opp_elo_n  game_location  game_result  forecast notes  \n",
       "0  1300.0000  1306.7233              H            L  0.640065   NaN  \n",
       "1  1300.0000  1293.2767              A            W  0.359935   NaN  \n",
       "2  1306.7233  1297.0712              H            W  0.631101   NaN  \n",
       "3  1300.0000  1309.6521              A            L  0.368899   NaN  \n",
       "4  1300.0000  1320.3811              H            L  0.640065   NaN  \n",
       "\n",
       "[5 rows x 23 columns]"
      ]
     },
     "execution_count": 5,
     "metadata": {},
     "output_type": "execute_result"
    }
   ],
   "source": [
    "nba.head()"
   ]
  },
  {
   "cell_type": "markdown",
   "metadata": {},
   "source": [
    "* If you’re following along with a Jupyter notebook, then you’ll see a result like this:\n",
    "\n",
    "![df1](https://files.realpython.com/media/head.7c86dafd4141.png)\n",
    "\n",
    "* Unless your screen is quite large, your output probably won’t display all 23 columns. Somewhere in the middle, you’ll see a column of ellipses (...) indicating the missing data. If you’re working in a terminal, then that’s probably more readable than wrapping long rows. However, Jupyter notebooks will allow you to scroll. You can configure Pandas to display all 23 columns like this:"
   ]
  },
  {
   "cell_type": "code",
   "execution_count": 6,
   "metadata": {},
   "outputs": [],
   "source": [
    "pd.set_option(\"display.max.columns\", None)"
   ]
  },
  {
   "cell_type": "markdown",
   "metadata": {},
   "source": [
    "* While it’s practical to see all the columns, you probably won’t need six decimal places! Change it to two:"
   ]
  },
  {
   "cell_type": "code",
   "execution_count": 7,
   "metadata": {},
   "outputs": [],
   "source": [
    "pd.set_option(\"display.precision\", 2)"
   ]
  },
  {
   "cell_type": "markdown",
   "metadata": {},
   "source": [
    "* To verify that you’ve changed the options successfully, you can execute `.head()` again, or you can display the last five rows with `.tail()` instead:"
   ]
  },
  {
   "cell_type": "code",
   "execution_count": 8,
   "metadata": {},
   "outputs": [
    {
     "data": {
      "text/html": [
       "<div>\n",
       "<style scoped>\n",
       "    .dataframe tbody tr th:only-of-type {\n",
       "        vertical-align: middle;\n",
       "    }\n",
       "\n",
       "    .dataframe tbody tr th {\n",
       "        vertical-align: top;\n",
       "    }\n",
       "\n",
       "    .dataframe thead th {\n",
       "        text-align: right;\n",
       "    }\n",
       "</style>\n",
       "<table border=\"1\" class=\"dataframe\">\n",
       "  <thead>\n",
       "    <tr style=\"text-align: right;\">\n",
       "      <th></th>\n",
       "      <th>gameorder</th>\n",
       "      <th>game_id</th>\n",
       "      <th>lg_id</th>\n",
       "      <th>_iscopy</th>\n",
       "      <th>year_id</th>\n",
       "      <th>date_game</th>\n",
       "      <th>seasongame</th>\n",
       "      <th>is_playoffs</th>\n",
       "      <th>team_id</th>\n",
       "      <th>fran_id</th>\n",
       "      <th>pts</th>\n",
       "      <th>elo_i</th>\n",
       "      <th>elo_n</th>\n",
       "      <th>win_equiv</th>\n",
       "      <th>opp_id</th>\n",
       "      <th>opp_fran</th>\n",
       "      <th>opp_pts</th>\n",
       "      <th>opp_elo_i</th>\n",
       "      <th>opp_elo_n</th>\n",
       "      <th>game_location</th>\n",
       "      <th>game_result</th>\n",
       "      <th>forecast</th>\n",
       "      <th>notes</th>\n",
       "    </tr>\n",
       "  </thead>\n",
       "  <tbody>\n",
       "    <tr>\n",
       "      <th>126309</th>\n",
       "      <td>63155</td>\n",
       "      <td>201506110CLE</td>\n",
       "      <td>NBA</td>\n",
       "      <td>0</td>\n",
       "      <td>2015</td>\n",
       "      <td>6/11/2015</td>\n",
       "      <td>100</td>\n",
       "      <td>1</td>\n",
       "      <td>CLE</td>\n",
       "      <td>Cavaliers</td>\n",
       "      <td>82</td>\n",
       "      <td>1723.41</td>\n",
       "      <td>1704.39</td>\n",
       "      <td>60.31</td>\n",
       "      <td>GSW</td>\n",
       "      <td>Warriors</td>\n",
       "      <td>103</td>\n",
       "      <td>1790.96</td>\n",
       "      <td>1809.98</td>\n",
       "      <td>H</td>\n",
       "      <td>L</td>\n",
       "      <td>0.55</td>\n",
       "      <td>NaN</td>\n",
       "    </tr>\n",
       "    <tr>\n",
       "      <th>126310</th>\n",
       "      <td>63156</td>\n",
       "      <td>201506140GSW</td>\n",
       "      <td>NBA</td>\n",
       "      <td>0</td>\n",
       "      <td>2015</td>\n",
       "      <td>6/14/2015</td>\n",
       "      <td>102</td>\n",
       "      <td>1</td>\n",
       "      <td>GSW</td>\n",
       "      <td>Warriors</td>\n",
       "      <td>104</td>\n",
       "      <td>1809.98</td>\n",
       "      <td>1813.63</td>\n",
       "      <td>68.01</td>\n",
       "      <td>CLE</td>\n",
       "      <td>Cavaliers</td>\n",
       "      <td>91</td>\n",
       "      <td>1704.39</td>\n",
       "      <td>1700.74</td>\n",
       "      <td>H</td>\n",
       "      <td>W</td>\n",
       "      <td>0.77</td>\n",
       "      <td>NaN</td>\n",
       "    </tr>\n",
       "    <tr>\n",
       "      <th>126311</th>\n",
       "      <td>63156</td>\n",
       "      <td>201506140GSW</td>\n",
       "      <td>NBA</td>\n",
       "      <td>1</td>\n",
       "      <td>2015</td>\n",
       "      <td>6/14/2015</td>\n",
       "      <td>101</td>\n",
       "      <td>1</td>\n",
       "      <td>CLE</td>\n",
       "      <td>Cavaliers</td>\n",
       "      <td>91</td>\n",
       "      <td>1704.39</td>\n",
       "      <td>1700.74</td>\n",
       "      <td>60.01</td>\n",
       "      <td>GSW</td>\n",
       "      <td>Warriors</td>\n",
       "      <td>104</td>\n",
       "      <td>1809.98</td>\n",
       "      <td>1813.63</td>\n",
       "      <td>A</td>\n",
       "      <td>L</td>\n",
       "      <td>0.23</td>\n",
       "      <td>NaN</td>\n",
       "    </tr>\n",
       "    <tr>\n",
       "      <th>126312</th>\n",
       "      <td>63157</td>\n",
       "      <td>201506170CLE</td>\n",
       "      <td>NBA</td>\n",
       "      <td>0</td>\n",
       "      <td>2015</td>\n",
       "      <td>6/16/2015</td>\n",
       "      <td>102</td>\n",
       "      <td>1</td>\n",
       "      <td>CLE</td>\n",
       "      <td>Cavaliers</td>\n",
       "      <td>97</td>\n",
       "      <td>1700.74</td>\n",
       "      <td>1692.09</td>\n",
       "      <td>59.29</td>\n",
       "      <td>GSW</td>\n",
       "      <td>Warriors</td>\n",
       "      <td>105</td>\n",
       "      <td>1813.63</td>\n",
       "      <td>1822.29</td>\n",
       "      <td>H</td>\n",
       "      <td>L</td>\n",
       "      <td>0.48</td>\n",
       "      <td>NaN</td>\n",
       "    </tr>\n",
       "    <tr>\n",
       "      <th>126313</th>\n",
       "      <td>63157</td>\n",
       "      <td>201506170CLE</td>\n",
       "      <td>NBA</td>\n",
       "      <td>1</td>\n",
       "      <td>2015</td>\n",
       "      <td>6/16/2015</td>\n",
       "      <td>103</td>\n",
       "      <td>1</td>\n",
       "      <td>GSW</td>\n",
       "      <td>Warriors</td>\n",
       "      <td>105</td>\n",
       "      <td>1813.63</td>\n",
       "      <td>1822.29</td>\n",
       "      <td>68.52</td>\n",
       "      <td>CLE</td>\n",
       "      <td>Cavaliers</td>\n",
       "      <td>97</td>\n",
       "      <td>1700.74</td>\n",
       "      <td>1692.09</td>\n",
       "      <td>A</td>\n",
       "      <td>W</td>\n",
       "      <td>0.52</td>\n",
       "      <td>NaN</td>\n",
       "    </tr>\n",
       "  </tbody>\n",
       "</table>\n",
       "</div>"
      ],
      "text/plain": [
       "        gameorder       game_id lg_id  _iscopy  year_id  date_game  \\\n",
       "126309      63155  201506110CLE   NBA        0     2015  6/11/2015   \n",
       "126310      63156  201506140GSW   NBA        0     2015  6/14/2015   \n",
       "126311      63156  201506140GSW   NBA        1     2015  6/14/2015   \n",
       "126312      63157  201506170CLE   NBA        0     2015  6/16/2015   \n",
       "126313      63157  201506170CLE   NBA        1     2015  6/16/2015   \n",
       "\n",
       "        seasongame  is_playoffs team_id    fran_id  pts    elo_i    elo_n  \\\n",
       "126309         100            1     CLE  Cavaliers   82  1723.41  1704.39   \n",
       "126310         102            1     GSW   Warriors  104  1809.98  1813.63   \n",
       "126311         101            1     CLE  Cavaliers   91  1704.39  1700.74   \n",
       "126312         102            1     CLE  Cavaliers   97  1700.74  1692.09   \n",
       "126313         103            1     GSW   Warriors  105  1813.63  1822.29   \n",
       "\n",
       "        win_equiv opp_id   opp_fran  opp_pts  opp_elo_i  opp_elo_n  \\\n",
       "126309      60.31    GSW   Warriors      103    1790.96    1809.98   \n",
       "126310      68.01    CLE  Cavaliers       91    1704.39    1700.74   \n",
       "126311      60.01    GSW   Warriors      104    1809.98    1813.63   \n",
       "126312      59.29    GSW   Warriors      105    1813.63    1822.29   \n",
       "126313      68.52    CLE  Cavaliers       97    1700.74    1692.09   \n",
       "\n",
       "       game_location game_result  forecast notes  \n",
       "126309             H           L      0.55   NaN  \n",
       "126310             H           W      0.77   NaN  \n",
       "126311             A           L      0.23   NaN  \n",
       "126312             H           L      0.48   NaN  \n",
       "126313             A           W      0.52   NaN  "
      ]
     },
     "execution_count": 8,
     "metadata": {},
     "output_type": "execute_result"
    }
   ],
   "source": [
    "# Now, you should see all the columns, and your data should show two decimal places:\n",
    "\n",
    "nba.tail()"
   ]
  },
  {
   "cell_type": "markdown",
   "metadata": {},
   "source": [
    "* You can discover some further possibilities of `.head()` and `.tail()` with a small exercise. Can you print the last three lines of your DataFrame? Expand the code block below to see the solution:\n"
   ]
  },
  {
   "cell_type": "code",
   "execution_count": 9,
   "metadata": {},
   "outputs": [
    {
     "data": {
      "text/html": [
       "<div>\n",
       "<style scoped>\n",
       "    .dataframe tbody tr th:only-of-type {\n",
       "        vertical-align: middle;\n",
       "    }\n",
       "\n",
       "    .dataframe tbody tr th {\n",
       "        vertical-align: top;\n",
       "    }\n",
       "\n",
       "    .dataframe thead th {\n",
       "        text-align: right;\n",
       "    }\n",
       "</style>\n",
       "<table border=\"1\" class=\"dataframe\">\n",
       "  <thead>\n",
       "    <tr style=\"text-align: right;\">\n",
       "      <th></th>\n",
       "      <th>gameorder</th>\n",
       "      <th>game_id</th>\n",
       "      <th>lg_id</th>\n",
       "      <th>_iscopy</th>\n",
       "      <th>year_id</th>\n",
       "      <th>date_game</th>\n",
       "      <th>seasongame</th>\n",
       "      <th>is_playoffs</th>\n",
       "      <th>team_id</th>\n",
       "      <th>fran_id</th>\n",
       "      <th>pts</th>\n",
       "      <th>elo_i</th>\n",
       "      <th>elo_n</th>\n",
       "      <th>win_equiv</th>\n",
       "      <th>opp_id</th>\n",
       "      <th>opp_fran</th>\n",
       "      <th>opp_pts</th>\n",
       "      <th>opp_elo_i</th>\n",
       "      <th>opp_elo_n</th>\n",
       "      <th>game_location</th>\n",
       "      <th>game_result</th>\n",
       "      <th>forecast</th>\n",
       "      <th>notes</th>\n",
       "    </tr>\n",
       "  </thead>\n",
       "  <tbody>\n",
       "    <tr>\n",
       "      <th>126311</th>\n",
       "      <td>63156</td>\n",
       "      <td>201506140GSW</td>\n",
       "      <td>NBA</td>\n",
       "      <td>1</td>\n",
       "      <td>2015</td>\n",
       "      <td>6/14/2015</td>\n",
       "      <td>101</td>\n",
       "      <td>1</td>\n",
       "      <td>CLE</td>\n",
       "      <td>Cavaliers</td>\n",
       "      <td>91</td>\n",
       "      <td>1704.39</td>\n",
       "      <td>1700.74</td>\n",
       "      <td>60.01</td>\n",
       "      <td>GSW</td>\n",
       "      <td>Warriors</td>\n",
       "      <td>104</td>\n",
       "      <td>1809.98</td>\n",
       "      <td>1813.63</td>\n",
       "      <td>A</td>\n",
       "      <td>L</td>\n",
       "      <td>0.23</td>\n",
       "      <td>NaN</td>\n",
       "    </tr>\n",
       "    <tr>\n",
       "      <th>126312</th>\n",
       "      <td>63157</td>\n",
       "      <td>201506170CLE</td>\n",
       "      <td>NBA</td>\n",
       "      <td>0</td>\n",
       "      <td>2015</td>\n",
       "      <td>6/16/2015</td>\n",
       "      <td>102</td>\n",
       "      <td>1</td>\n",
       "      <td>CLE</td>\n",
       "      <td>Cavaliers</td>\n",
       "      <td>97</td>\n",
       "      <td>1700.74</td>\n",
       "      <td>1692.09</td>\n",
       "      <td>59.29</td>\n",
       "      <td>GSW</td>\n",
       "      <td>Warriors</td>\n",
       "      <td>105</td>\n",
       "      <td>1813.63</td>\n",
       "      <td>1822.29</td>\n",
       "      <td>H</td>\n",
       "      <td>L</td>\n",
       "      <td>0.48</td>\n",
       "      <td>NaN</td>\n",
       "    </tr>\n",
       "    <tr>\n",
       "      <th>126313</th>\n",
       "      <td>63157</td>\n",
       "      <td>201506170CLE</td>\n",
       "      <td>NBA</td>\n",
       "      <td>1</td>\n",
       "      <td>2015</td>\n",
       "      <td>6/16/2015</td>\n",
       "      <td>103</td>\n",
       "      <td>1</td>\n",
       "      <td>GSW</td>\n",
       "      <td>Warriors</td>\n",
       "      <td>105</td>\n",
       "      <td>1813.63</td>\n",
       "      <td>1822.29</td>\n",
       "      <td>68.52</td>\n",
       "      <td>CLE</td>\n",
       "      <td>Cavaliers</td>\n",
       "      <td>97</td>\n",
       "      <td>1700.74</td>\n",
       "      <td>1692.09</td>\n",
       "      <td>A</td>\n",
       "      <td>W</td>\n",
       "      <td>0.52</td>\n",
       "      <td>NaN</td>\n",
       "    </tr>\n",
       "  </tbody>\n",
       "</table>\n",
       "</div>"
      ],
      "text/plain": [
       "        gameorder       game_id lg_id  _iscopy  year_id  date_game  \\\n",
       "126311      63156  201506140GSW   NBA        1     2015  6/14/2015   \n",
       "126312      63157  201506170CLE   NBA        0     2015  6/16/2015   \n",
       "126313      63157  201506170CLE   NBA        1     2015  6/16/2015   \n",
       "\n",
       "        seasongame  is_playoffs team_id    fran_id  pts    elo_i    elo_n  \\\n",
       "126311         101            1     CLE  Cavaliers   91  1704.39  1700.74   \n",
       "126312         102            1     CLE  Cavaliers   97  1700.74  1692.09   \n",
       "126313         103            1     GSW   Warriors  105  1813.63  1822.29   \n",
       "\n",
       "        win_equiv opp_id   opp_fran  opp_pts  opp_elo_i  opp_elo_n  \\\n",
       "126311      60.01    GSW   Warriors      104    1809.98    1813.63   \n",
       "126312      59.29    GSW   Warriors      105    1813.63    1822.29   \n",
       "126313      68.52    CLE  Cavaliers       97    1700.74    1692.09   \n",
       "\n",
       "       game_location game_result  forecast notes  \n",
       "126311             A           L      0.23   NaN  \n",
       "126312             H           L      0.48   NaN  \n",
       "126313             A           W      0.52   NaN  "
      ]
     },
     "execution_count": 9,
     "metadata": {},
     "output_type": "execute_result"
    }
   ],
   "source": [
    "# You can see the last three lines of your dataset with the options you’ve set!\n",
    "\n",
    "nba.tail(3)"
   ]
  },
  {
   "cell_type": "markdown",
   "metadata": {},
   "source": [
    "* Similar to the Python standard library, functions in Pandas also come with several optional parameters. Whenever you bump into an example that looks relevant but is slightly different from your use case, check out the [official documentation](https://pandas.pydata.org/pandas-docs/stable/). The chances are good that you’ll find a solution by tweaking some optional parameters!"
   ]
  },
  {
   "cell_type": "markdown",
   "metadata": {},
   "source": [
    "### Getting to Know Your Data\n",
    "\n",
    "* You’ve imported a CSV file with the Pandas Python library and had a first look at the contents of your dataset. So far, you’ve only seen the size of your dataset and its first and last few rows. Next, you’ll learn how to **examine your data** more systematically.\n",
    "\n",
    "#### Displaying Data Types\n",
    "* The first step in getting to know your data is to discover the different [data types](https://realpython.com/python-data-types/) it contains. While you can put anything into a list, the columns of a DataFrame contain values of a specific data type. When you compare Pandas and Python data structures, you’ll see that this behavior makes Pandas much faster!\n",
    "* You can display all columns and their data types with `.info()`:"
   ]
  },
  {
   "cell_type": "code",
   "execution_count": 10,
   "metadata": {},
   "outputs": [
    {
     "name": "stdout",
     "output_type": "stream",
     "text": [
      "<class 'pandas.core.frame.DataFrame'>\n",
      "RangeIndex: 126314 entries, 0 to 126313\n",
      "Data columns (total 23 columns):\n",
      " #   Column         Non-Null Count   Dtype  \n",
      "---  ------         --------------   -----  \n",
      " 0   gameorder      126314 non-null  int64  \n",
      " 1   game_id        126314 non-null  object \n",
      " 2   lg_id          126314 non-null  object \n",
      " 3   _iscopy        126314 non-null  int64  \n",
      " 4   year_id        126314 non-null  int64  \n",
      " 5   date_game      126314 non-null  object \n",
      " 6   seasongame     126314 non-null  int64  \n",
      " 7   is_playoffs    126314 non-null  int64  \n",
      " 8   team_id        126314 non-null  object \n",
      " 9   fran_id        126314 non-null  object \n",
      " 10  pts            126314 non-null  int64  \n",
      " 11  elo_i          126314 non-null  float64\n",
      " 12  elo_n          126314 non-null  float64\n",
      " 13  win_equiv      126314 non-null  float64\n",
      " 14  opp_id         126314 non-null  object \n",
      " 15  opp_fran       126314 non-null  object \n",
      " 16  opp_pts        126314 non-null  int64  \n",
      " 17  opp_elo_i      126314 non-null  float64\n",
      " 18  opp_elo_n      126314 non-null  float64\n",
      " 19  game_location  126314 non-null  object \n",
      " 20  game_result    126314 non-null  object \n",
      " 21  forecast       126314 non-null  float64\n",
      " 22  notes          5424 non-null    object \n",
      "dtypes: float64(6), int64(7), object(10)\n",
      "memory usage: 22.2+ MB\n"
     ]
    }
   ],
   "source": [
    "nba.info()"
   ]
  },
  {
   "cell_type": "markdown",
   "metadata": {},
   "source": [
    "* You’ll see a list of all the columns in your dataset and the type of data each column contains. Here, you can see the data types int64, float64, and object. Pandas uses the [NumPy](https://realpython.com/numpy-array-programming/) library to work with these types. Later, you’ll meet the more complex categorical data type, which the Pandas Python library implements itself.\n",
    "* The object data type is a special one. According to the Pandas Cookbook, the object data type is “a catch-all for columns that Pandas doesn’t recognize as any other specific type.” In practice, it often means that all of the values in the column are strings.\n",
    "* Although you can store arbitrary Python objects in the object data type, you should be aware of the drawbacks to doing so. Strange values in an object column can harm Pandas’ performance and its interoperability with other libraries. For more information, check out the official getting started guide.\n",
    "#### Showing Basics Statistics\n",
    "* Now that you’ve seen what data types are in your dataset, it’s time to get an overview of the values each column contains. You can do this with `.describe()`:"
   ]
  },
  {
   "cell_type": "code",
   "execution_count": 12,
   "metadata": {},
   "outputs": [
    {
     "data": {
      "text/html": [
       "<div>\n",
       "<style scoped>\n",
       "    .dataframe tbody tr th:only-of-type {\n",
       "        vertical-align: middle;\n",
       "    }\n",
       "\n",
       "    .dataframe tbody tr th {\n",
       "        vertical-align: top;\n",
       "    }\n",
       "\n",
       "    .dataframe thead th {\n",
       "        text-align: right;\n",
       "    }\n",
       "</style>\n",
       "<table border=\"1\" class=\"dataframe\">\n",
       "  <thead>\n",
       "    <tr style=\"text-align: right;\">\n",
       "      <th></th>\n",
       "      <th>gameorder</th>\n",
       "      <th>_iscopy</th>\n",
       "      <th>year_id</th>\n",
       "      <th>seasongame</th>\n",
       "      <th>is_playoffs</th>\n",
       "      <th>pts</th>\n",
       "      <th>elo_i</th>\n",
       "      <th>elo_n</th>\n",
       "      <th>win_equiv</th>\n",
       "      <th>opp_pts</th>\n",
       "      <th>opp_elo_i</th>\n",
       "      <th>opp_elo_n</th>\n",
       "      <th>forecast</th>\n",
       "    </tr>\n",
       "  </thead>\n",
       "  <tbody>\n",
       "    <tr>\n",
       "      <th>count</th>\n",
       "      <td>126314.00</td>\n",
       "      <td>126314.0</td>\n",
       "      <td>126314.00</td>\n",
       "      <td>126314.00</td>\n",
       "      <td>126314.00</td>\n",
       "      <td>126314.00</td>\n",
       "      <td>126314.00</td>\n",
       "      <td>126314.00</td>\n",
       "      <td>126314.00</td>\n",
       "      <td>126314.00</td>\n",
       "      <td>126314.00</td>\n",
       "      <td>126314.00</td>\n",
       "      <td>126314.00</td>\n",
       "    </tr>\n",
       "    <tr>\n",
       "      <th>mean</th>\n",
       "      <td>31579.00</td>\n",
       "      <td>0.5</td>\n",
       "      <td>1988.20</td>\n",
       "      <td>43.53</td>\n",
       "      <td>0.06</td>\n",
       "      <td>102.73</td>\n",
       "      <td>1495.24</td>\n",
       "      <td>1495.24</td>\n",
       "      <td>41.71</td>\n",
       "      <td>102.73</td>\n",
       "      <td>1495.24</td>\n",
       "      <td>1495.24</td>\n",
       "      <td>0.50</td>\n",
       "    </tr>\n",
       "    <tr>\n",
       "      <th>std</th>\n",
       "      <td>18231.93</td>\n",
       "      <td>0.5</td>\n",
       "      <td>17.58</td>\n",
       "      <td>25.38</td>\n",
       "      <td>0.24</td>\n",
       "      <td>14.81</td>\n",
       "      <td>112.14</td>\n",
       "      <td>112.46</td>\n",
       "      <td>10.63</td>\n",
       "      <td>14.81</td>\n",
       "      <td>112.14</td>\n",
       "      <td>112.46</td>\n",
       "      <td>0.22</td>\n",
       "    </tr>\n",
       "    <tr>\n",
       "      <th>min</th>\n",
       "      <td>1.00</td>\n",
       "      <td>0.0</td>\n",
       "      <td>1947.00</td>\n",
       "      <td>1.00</td>\n",
       "      <td>0.00</td>\n",
       "      <td>0.00</td>\n",
       "      <td>1091.64</td>\n",
       "      <td>1085.77</td>\n",
       "      <td>10.15</td>\n",
       "      <td>0.00</td>\n",
       "      <td>1091.64</td>\n",
       "      <td>1085.77</td>\n",
       "      <td>0.02</td>\n",
       "    </tr>\n",
       "    <tr>\n",
       "      <th>25%</th>\n",
       "      <td>15790.00</td>\n",
       "      <td>0.0</td>\n",
       "      <td>1975.00</td>\n",
       "      <td>22.00</td>\n",
       "      <td>0.00</td>\n",
       "      <td>93.00</td>\n",
       "      <td>1417.24</td>\n",
       "      <td>1416.99</td>\n",
       "      <td>34.10</td>\n",
       "      <td>93.00</td>\n",
       "      <td>1417.24</td>\n",
       "      <td>1416.99</td>\n",
       "      <td>0.33</td>\n",
       "    </tr>\n",
       "    <tr>\n",
       "      <th>50%</th>\n",
       "      <td>31579.00</td>\n",
       "      <td>0.5</td>\n",
       "      <td>1990.00</td>\n",
       "      <td>43.00</td>\n",
       "      <td>0.00</td>\n",
       "      <td>103.00</td>\n",
       "      <td>1500.95</td>\n",
       "      <td>1500.95</td>\n",
       "      <td>42.11</td>\n",
       "      <td>103.00</td>\n",
       "      <td>1500.95</td>\n",
       "      <td>1500.95</td>\n",
       "      <td>0.50</td>\n",
       "    </tr>\n",
       "    <tr>\n",
       "      <th>75%</th>\n",
       "      <td>47368.00</td>\n",
       "      <td>1.0</td>\n",
       "      <td>2003.00</td>\n",
       "      <td>65.00</td>\n",
       "      <td>0.00</td>\n",
       "      <td>112.00</td>\n",
       "      <td>1576.06</td>\n",
       "      <td>1576.29</td>\n",
       "      <td>49.64</td>\n",
       "      <td>112.00</td>\n",
       "      <td>1576.06</td>\n",
       "      <td>1576.29</td>\n",
       "      <td>0.67</td>\n",
       "    </tr>\n",
       "    <tr>\n",
       "      <th>max</th>\n",
       "      <td>63157.00</td>\n",
       "      <td>1.0</td>\n",
       "      <td>2015.00</td>\n",
       "      <td>108.00</td>\n",
       "      <td>1.00</td>\n",
       "      <td>186.00</td>\n",
       "      <td>1853.10</td>\n",
       "      <td>1853.10</td>\n",
       "      <td>71.11</td>\n",
       "      <td>186.00</td>\n",
       "      <td>1853.10</td>\n",
       "      <td>1853.10</td>\n",
       "      <td>0.98</td>\n",
       "    </tr>\n",
       "  </tbody>\n",
       "</table>\n",
       "</div>"
      ],
      "text/plain": [
       "       gameorder   _iscopy    year_id  seasongame  is_playoffs        pts  \\\n",
       "count  126314.00  126314.0  126314.00   126314.00    126314.00  126314.00   \n",
       "mean    31579.00       0.5    1988.20       43.53         0.06     102.73   \n",
       "std     18231.93       0.5      17.58       25.38         0.24      14.81   \n",
       "min         1.00       0.0    1947.00        1.00         0.00       0.00   \n",
       "25%     15790.00       0.0    1975.00       22.00         0.00      93.00   \n",
       "50%     31579.00       0.5    1990.00       43.00         0.00     103.00   \n",
       "75%     47368.00       1.0    2003.00       65.00         0.00     112.00   \n",
       "max     63157.00       1.0    2015.00      108.00         1.00     186.00   \n",
       "\n",
       "           elo_i      elo_n  win_equiv    opp_pts  opp_elo_i  opp_elo_n  \\\n",
       "count  126314.00  126314.00  126314.00  126314.00  126314.00  126314.00   \n",
       "mean     1495.24    1495.24      41.71     102.73    1495.24    1495.24   \n",
       "std       112.14     112.46      10.63      14.81     112.14     112.46   \n",
       "min      1091.64    1085.77      10.15       0.00    1091.64    1085.77   \n",
       "25%      1417.24    1416.99      34.10      93.00    1417.24    1416.99   \n",
       "50%      1500.95    1500.95      42.11     103.00    1500.95    1500.95   \n",
       "75%      1576.06    1576.29      49.64     112.00    1576.06    1576.29   \n",
       "max      1853.10    1853.10      71.11     186.00    1853.10    1853.10   \n",
       "\n",
       "        forecast  \n",
       "count  126314.00  \n",
       "mean        0.50  \n",
       "std         0.22  \n",
       "min         0.02  \n",
       "25%         0.33  \n",
       "50%         0.50  \n",
       "75%         0.67  \n",
       "max         0.98  "
      ]
     },
     "execution_count": 12,
     "metadata": {},
     "output_type": "execute_result"
    }
   ],
   "source": [
    "# This function shows you some basic descriptive statistics for all numeric columns:\n",
    "\n",
    "\n",
    "nba.describe()"
   ]
  },
  {
   "cell_type": "markdown",
   "metadata": {},
   "source": [
    "* `.describe()` only analyzes numeric columns by default, but you can provide other data types if you use the include parameter:"
   ]
  },
  {
   "cell_type": "code",
   "execution_count": 13,
   "metadata": {},
   "outputs": [
    {
     "data": {
      "text/html": [
       "<div>\n",
       "<style scoped>\n",
       "    .dataframe tbody tr th:only-of-type {\n",
       "        vertical-align: middle;\n",
       "    }\n",
       "\n",
       "    .dataframe tbody tr th {\n",
       "        vertical-align: top;\n",
       "    }\n",
       "\n",
       "    .dataframe thead th {\n",
       "        text-align: right;\n",
       "    }\n",
       "</style>\n",
       "<table border=\"1\" class=\"dataframe\">\n",
       "  <thead>\n",
       "    <tr style=\"text-align: right;\">\n",
       "      <th></th>\n",
       "      <th>game_id</th>\n",
       "      <th>lg_id</th>\n",
       "      <th>date_game</th>\n",
       "      <th>team_id</th>\n",
       "      <th>fran_id</th>\n",
       "      <th>opp_id</th>\n",
       "      <th>opp_fran</th>\n",
       "      <th>game_location</th>\n",
       "      <th>game_result</th>\n",
       "      <th>notes</th>\n",
       "    </tr>\n",
       "  </thead>\n",
       "  <tbody>\n",
       "    <tr>\n",
       "      <th>count</th>\n",
       "      <td>126314</td>\n",
       "      <td>126314</td>\n",
       "      <td>126314</td>\n",
       "      <td>126314</td>\n",
       "      <td>126314</td>\n",
       "      <td>126314</td>\n",
       "      <td>126314</td>\n",
       "      <td>126314</td>\n",
       "      <td>126314</td>\n",
       "      <td>5424</td>\n",
       "    </tr>\n",
       "    <tr>\n",
       "      <th>unique</th>\n",
       "      <td>63157</td>\n",
       "      <td>2</td>\n",
       "      <td>12426</td>\n",
       "      <td>104</td>\n",
       "      <td>53</td>\n",
       "      <td>104</td>\n",
       "      <td>53</td>\n",
       "      <td>3</td>\n",
       "      <td>2</td>\n",
       "      <td>231</td>\n",
       "    </tr>\n",
       "    <tr>\n",
       "      <th>top</th>\n",
       "      <td>194611010TRH</td>\n",
       "      <td>NBA</td>\n",
       "      <td>4/13/2011</td>\n",
       "      <td>BOS</td>\n",
       "      <td>Lakers</td>\n",
       "      <td>BOS</td>\n",
       "      <td>Lakers</td>\n",
       "      <td>H</td>\n",
       "      <td>L</td>\n",
       "      <td>at New York NY</td>\n",
       "    </tr>\n",
       "    <tr>\n",
       "      <th>freq</th>\n",
       "      <td>2</td>\n",
       "      <td>118016</td>\n",
       "      <td>30</td>\n",
       "      <td>5997</td>\n",
       "      <td>6024</td>\n",
       "      <td>5997</td>\n",
       "      <td>6024</td>\n",
       "      <td>63138</td>\n",
       "      <td>63157</td>\n",
       "      <td>440</td>\n",
       "    </tr>\n",
       "  </tbody>\n",
       "</table>\n",
       "</div>"
      ],
      "text/plain": [
       "             game_id   lg_id  date_game team_id fran_id  opp_id opp_fran  \\\n",
       "count         126314  126314     126314  126314  126314  126314   126314   \n",
       "unique         63157       2      12426     104      53     104       53   \n",
       "top     194611010TRH     NBA  4/13/2011     BOS  Lakers     BOS   Lakers   \n",
       "freq               2  118016         30    5997    6024    5997     6024   \n",
       "\n",
       "       game_location game_result           notes  \n",
       "count         126314      126314            5424  \n",
       "unique             3           2             231  \n",
       "top                H           L  at New York NY  \n",
       "freq           63138       63157             440  "
      ]
     },
     "execution_count": 13,
     "metadata": {},
     "output_type": "execute_result"
    }
   ],
   "source": [
    "import numpy as np\n",
    "nba.describe(include=object)"
   ]
  },
  {
   "cell_type": "markdown",
   "metadata": {},
   "source": [
    "* `.describe()` won’t try to calculate a mean or a standard deviation for the object columns, since they mostly include text strings. However, it will still display some descriptive statistics.\n",
    "* Take a look at the team_id and fran_id columns. Your dataset contains 104 different team IDs, but only 53 different franchise IDs. Furthermore, the most frequent team ID is BOS, but the most frequent franchise ID Lakers. How is that possible? You’ll need to explore your dataset a bit more to answer this question.\n",
    "\n",
    "### Exploring Your Dataset\n",
    "\n",
    "* **Exploratory data analysis** can help you answer questions about your dataset. For example, you can examine how often specific values occur in a column:"
   ]
  },
  {
   "cell_type": "code",
   "execution_count": 14,
   "metadata": {},
   "outputs": [
    {
     "data": {
      "text/plain": [
       "BOS    5997\n",
       "NYK    5769\n",
       "LAL    5078\n",
       "DET    4985\n",
       "PHI    4533\n",
       "       ... \n",
       "INJ      60\n",
       "PIT      60\n",
       "DTF      60\n",
       "TRH      60\n",
       "SDS      11\n",
       "Name: team_id, Length: 104, dtype: int64"
      ]
     },
     "execution_count": 14,
     "metadata": {},
     "output_type": "execute_result"
    }
   ],
   "source": [
    "nba[\"team_id\"].value_counts()"
   ]
  },
  {
   "cell_type": "code",
   "execution_count": 15,
   "metadata": {},
   "outputs": [
    {
     "data": {
      "text/plain": [
       "Lakers          6024\n",
       "Celtics         5997\n",
       "Knicks          5769\n",
       "Warriors        5657\n",
       "Pistons         5650\n",
       "Sixers          5644\n",
       "Hawks           5572\n",
       "Kings           5475\n",
       "Wizards         4582\n",
       "Spurs           4309\n",
       "Bulls           4307\n",
       "Pacers          4227\n",
       "Thunder         4178\n",
       "Rockets         4154\n",
       "Nuggets         4120\n",
       "Nets            4106\n",
       "Suns            4080\n",
       "Bucks           4034\n",
       "Trailblazers    3870\n",
       "Cavaliers       3810\n",
       "Clippers        3733\n",
       "Jazz            3555\n",
       "Mavericks       3013\n",
       "Heat            2371\n",
       "Pelicans        2254\n",
       "Magic           2207\n",
       "Timberwolves    2131\n",
       "Grizzlies       1657\n",
       "Raptors         1634\n",
       "Hornets          894\n",
       "Colonels         846\n",
       "Squires          799\n",
       "Spirits          777\n",
       "Stars            756\n",
       "Sounds           697\n",
       "Baltimore        467\n",
       "Floridians       440\n",
       "Condors          430\n",
       "Capitols         291\n",
       "Olympians        282\n",
       "Sails            274\n",
       "Stags            260\n",
       "Bombers          249\n",
       "Steamrollers     168\n",
       "Packers           72\n",
       "Redskins          65\n",
       "Rebels            63\n",
       "Waterloo          62\n",
       "Denver            62\n",
       "Falcons           60\n",
       "Jets              60\n",
       "Ironmen           60\n",
       "Huskies           60\n",
       "Name: fran_id, dtype: int64"
      ]
     },
     "execution_count": 15,
     "metadata": {},
     "output_type": "execute_result"
    }
   ],
   "source": [
    "nba[\"fran_id\"].value_counts()"
   ]
  },
  {
   "cell_type": "markdown",
   "metadata": {},
   "source": [
    "* It seems that a team named \"Lakers\" played 6024 games, but only 5078 of those were played by the Los Angeles Lakers. Find out who the other \"Lakers\" team is:"
   ]
  },
  {
   "cell_type": "code",
   "execution_count": 16,
   "metadata": {},
   "outputs": [
    {
     "data": {
      "text/plain": [
       "LAL    5078\n",
       "MNL     946\n",
       "Name: team_id, dtype: int64"
      ]
     },
     "execution_count": 16,
     "metadata": {},
     "output_type": "execute_result"
    }
   ],
   "source": [
    "nba.loc[nba[\"fran_id\"] == \"Lakers\", \"team_id\"].value_counts()"
   ]
  },
  {
   "cell_type": "markdown",
   "metadata": {},
   "source": [
    "* Indeed, the Minneapolis Lakers (\"MNL\") played 946 games. You can even find out when they played those games. For that, you’ll first define a column that converts the value of date_game to the datetime data type. Then you can use the min and max aggregate functions, to find the first and last games of Minneapolis Lakers:"
   ]
  },
  {
   "cell_type": "code",
   "execution_count": 17,
   "metadata": {},
   "outputs": [
    {
     "data": {
      "text/plain": [
       "Timestamp('1948-11-04 00:00:00')"
      ]
     },
     "execution_count": 17,
     "metadata": {},
     "output_type": "execute_result"
    }
   ],
   "source": [
    "nba[\"date_played\"] = pd.to_datetime(nba[\"date_game\"])\n",
    "nba.loc[nba[\"team_id\"] == \"MNL\", \"date_played\"].min()"
   ]
  },
  {
   "cell_type": "code",
   "execution_count": 18,
   "metadata": {},
   "outputs": [
    {
     "data": {
      "text/plain": [
       "Timestamp('1960-03-26 00:00:00')"
      ]
     },
     "execution_count": 18,
     "metadata": {},
     "output_type": "execute_result"
    }
   ],
   "source": [
    "nba.loc[nba['team_id'] == 'MNL', 'date_played'].max()"
   ]
  },
  {
   "cell_type": "code",
   "execution_count": 19,
   "metadata": {},
   "outputs": [
    {
     "data": {
      "text/plain": [
       "min   1948-11-04\n",
       "max   1960-03-26\n",
       "Name: date_played, dtype: datetime64[ns]"
      ]
     },
     "execution_count": 19,
     "metadata": {},
     "output_type": "execute_result"
    }
   ],
   "source": [
    "nba.loc[nba[\"team_id\"] == \"MNL\", \"date_played\"].agg((\"min\", \"max\"))"
   ]
  },
  {
   "cell_type": "markdown",
   "metadata": {},
   "source": [
    "* It looks like the Minneapolis Lakers played between the years of 1948 and 1960. That explains why you might not recognize this team!\n",
    "\n",
    "* You’ve also found out why the Boston Celtics team \"BOS\" played the most games in the dataset. Let’s analyze their history also a little bit. Find out how many points the Boston Celtics have scored during all matches contained in this dataset. Expand the code block below for the solution:"
   ]
  },
  {
   "cell_type": "code",
   "execution_count": 20,
   "metadata": {},
   "outputs": [
    {
     "data": {
      "text/plain": [
       "626484"
      ]
     },
     "execution_count": 20,
     "metadata": {},
     "output_type": "execute_result"
    }
   ],
   "source": [
    "nba.loc[nba[\"team_id\"] == \"BOS\", \"pts\"].sum()"
   ]
  },
  {
   "cell_type": "markdown",
   "metadata": {},
   "source": [
    "* You’ve got a taste for the capabilities of a Pandas DataFrame. In the following sections, you’ll expand on the techniques you’ve just used, but first, you’ll zoom in and learn how this powerful data structure works."
   ]
  },
  {
   "cell_type": "markdown",
   "metadata": {},
   "source": [
    "### Getting to Know Pandas’ Data Structures\n",
    "* While a DataFrame provides functions that can feel quite intuitive, the underlying concepts are a bit trickier to understand. For this reason, you’ll set aside the vast NBA DataFrame and build some smaller Pandas objects from scratch.\n",
    "#### Understanding Series Objects\n",
    "* Python’s most basic data structure is the list, which is also a good starting point for getting to know **pandas.Series** objects. Create a new Series object based on a list:"
   ]
  },
  {
   "cell_type": "code",
   "execution_count": 21,
   "metadata": {},
   "outputs": [
    {
     "data": {
      "text/plain": [
       "0    5555\n",
       "1    7000\n",
       "2    1980\n",
       "dtype: int64"
      ]
     },
     "execution_count": 21,
     "metadata": {},
     "output_type": "execute_result"
    }
   ],
   "source": [
    "revenues = pd.Series([5555, 7000, 1980])\n",
    "revenues"
   ]
  },
  {
   "cell_type": "markdown",
   "metadata": {},
   "source": [
    "* You’ve used the list [5555, 7000, 1980] to create a Series object called revenues. A Series object wraps two components:\n",
    "    * A sequence of **values**\n",
    "    * A sequence of **identifiers**, which is the index\n",
    "* You can access these components with `.values` and `.index`, respectively:"
   ]
  },
  {
   "cell_type": "code",
   "execution_count": 22,
   "metadata": {},
   "outputs": [
    {
     "data": {
      "text/plain": [
       "array([5555, 7000, 1980])"
      ]
     },
     "execution_count": 22,
     "metadata": {},
     "output_type": "execute_result"
    }
   ],
   "source": [
    "# revenues.values returns the values in the Series, whereas revenues.index returns \n",
    "# the positional index.\n",
    "revenues.values"
   ]
  },
  {
   "cell_type": "code",
   "execution_count": 23,
   "metadata": {},
   "outputs": [
    {
     "data": {
      "text/plain": [
       "RangeIndex(start=0, stop=3, step=1)"
      ]
     },
     "execution_count": 23,
     "metadata": {},
     "output_type": "execute_result"
    }
   ],
   "source": [
    "revenues.index"
   ]
  },
  {
   "cell_type": "markdown",
   "metadata": {},
   "source": [
    "* While Pandas builds on `NumPy`, a significant difference is in their **indexing**. Just like a NumPy array, a Pandas Series also has an integer index that’s implicitly defined. This implicit index indicates the element’s position in the Series.\n",
    "* However, a Series can also have an arbitrary type of index. You can think of this explicit index as labels for a specific row:"
   ]
  },
  {
   "cell_type": "code",
   "execution_count": 24,
   "metadata": {},
   "outputs": [
    {
     "data": {
      "text/plain": [
       "Amsterdam    4200\n",
       "Toronto      8000\n",
       "Tokyo        6500\n",
       "dtype: int64"
      ]
     },
     "execution_count": 24,
     "metadata": {},
     "output_type": "execute_result"
    }
   ],
   "source": [
    "city_revenues = pd.Series(\n",
    "[4200, 8000, 6500],\n",
    "index=[\"Amsterdam\", \"Toronto\", \"Tokyo\"]\n",
    ")\n",
    "\n",
    "city_revenues"
   ]
  },
  {
   "cell_type": "markdown",
   "metadata": {},
   "source": [
    "* Here, the index is a list of city names represented by strings. You may have noticed that Python dictionaries use string indices as well, and this is a handy analogy to keep in mind! You can use the code blocks above to distinguish between two types of Series:\n",
    "    * **revenues:** This Series behaves like a Python list because it only has a positional index.\n",
    "    * **city_revenues:** This Series acts like a Python dictionary because it features both positional and a label index.\n",
    "* Here’s how to construct a Series with a label index from a Python dictionary:\n",
    "\n"
   ]
  },
  {
   "cell_type": "code",
   "execution_count": 25,
   "metadata": {},
   "outputs": [
    {
     "data": {
      "text/plain": [
       "Amsterdam    5\n",
       "Tokyo        8\n",
       "dtype: int64"
      ]
     },
     "execution_count": 25,
     "metadata": {},
     "output_type": "execute_result"
    }
   ],
   "source": [
    "city_employee_count = pd.Series({\"Amsterdam\": 5, \"Tokyo\": 8})\n",
    "city_employee_count"
   ]
  },
  {
   "cell_type": "markdown",
   "metadata": {},
   "source": [
    "* The dictionary keys become the index, and the dictionary values are the Series values.\n",
    "* Just like dictionaries, Series also support `.keys()` and the in keyword:"
   ]
  },
  {
   "cell_type": "code",
   "execution_count": 26,
   "metadata": {},
   "outputs": [
    {
     "data": {
      "text/plain": [
       "Index(['Amsterdam', 'Tokyo'], dtype='object')"
      ]
     },
     "execution_count": 26,
     "metadata": {},
     "output_type": "execute_result"
    }
   ],
   "source": [
    "city_employee_count.keys()"
   ]
  },
  {
   "cell_type": "code",
   "execution_count": 27,
   "metadata": {},
   "outputs": [
    {
     "data": {
      "text/plain": [
       "True"
      ]
     },
     "execution_count": 27,
     "metadata": {},
     "output_type": "execute_result"
    }
   ],
   "source": [
    "# You can use these methods to answer questions about your dataset quickly.\n",
    "\"Tokyo\" in city_employee_count"
   ]
  },
  {
   "cell_type": "code",
   "execution_count": 28,
   "metadata": {},
   "outputs": [
    {
     "data": {
      "text/plain": [
       "False"
      ]
     },
     "execution_count": 28,
     "metadata": {},
     "output_type": "execute_result"
    }
   ],
   "source": [
    "\"New York\" in city_employee_count"
   ]
  },
  {
   "cell_type": "markdown",
   "metadata": {},
   "source": [
    "### Understanding DataFrame Objects\n",
    "* While a Series is a pretty powerful data structure, it has its limitations. For example, you can only store one attribute per key. As you’ve seen with the nba dataset, which features 23 columns, the Pandas Python library has more to offer with its DataFrame. This data structure is a sequence of Series objects that share the same index.\n",
    "* If you’ve followed along with the Series examples, then you should already have two Series objects with cities as keys:\n",
    "    * city_revenues\n",
    "    * city_employee_count\n",
    "* You can combine these objects into a DataFrame by providing a dictionary in the constructor. The dictionary keys will become the column names, and the values should contain the Series objects:"
   ]
  },
  {
   "cell_type": "code",
   "execution_count": 29,
   "metadata": {},
   "outputs": [
    {
     "data": {
      "text/html": [
       "<div>\n",
       "<style scoped>\n",
       "    .dataframe tbody tr th:only-of-type {\n",
       "        vertical-align: middle;\n",
       "    }\n",
       "\n",
       "    .dataframe tbody tr th {\n",
       "        vertical-align: top;\n",
       "    }\n",
       "\n",
       "    .dataframe thead th {\n",
       "        text-align: right;\n",
       "    }\n",
       "</style>\n",
       "<table border=\"1\" class=\"dataframe\">\n",
       "  <thead>\n",
       "    <tr style=\"text-align: right;\">\n",
       "      <th></th>\n",
       "      <th>revenue</th>\n",
       "      <th>employee_count</th>\n",
       "    </tr>\n",
       "  </thead>\n",
       "  <tbody>\n",
       "    <tr>\n",
       "      <th>Amsterdam</th>\n",
       "      <td>4200</td>\n",
       "      <td>5.0</td>\n",
       "    </tr>\n",
       "    <tr>\n",
       "      <th>Tokyo</th>\n",
       "      <td>6500</td>\n",
       "      <td>8.0</td>\n",
       "    </tr>\n",
       "    <tr>\n",
       "      <th>Toronto</th>\n",
       "      <td>8000</td>\n",
       "      <td>NaN</td>\n",
       "    </tr>\n",
       "  </tbody>\n",
       "</table>\n",
       "</div>"
      ],
      "text/plain": [
       "           revenue  employee_count\n",
       "Amsterdam     4200             5.0\n",
       "Tokyo         6500             8.0\n",
       "Toronto       8000             NaN"
      ]
     },
     "execution_count": 29,
     "metadata": {},
     "output_type": "execute_result"
    }
   ],
   "source": [
    "city_data = pd.DataFrame({\n",
    "\"revenue\": city_revenues,\n",
    "\"employee_count\": city_employee_count\n",
    "})\n",
    "\n",
    "city_data"
   ]
  },
  {
   "cell_type": "markdown",
   "metadata": {},
   "source": [
    "* Note how Pandas replaced the missing employee_count value for Toronto with NaN.\n",
    "* The new DataFrame index is the union of the two Series indices:"
   ]
  },
  {
   "cell_type": "code",
   "execution_count": 30,
   "metadata": {},
   "outputs": [
    {
     "data": {
      "text/plain": [
       "Index(['Amsterdam', 'Tokyo', 'Toronto'], dtype='object')"
      ]
     },
     "execution_count": 30,
     "metadata": {},
     "output_type": "execute_result"
    }
   ],
   "source": [
    "city_data.index"
   ]
  },
  {
   "cell_type": "code",
   "execution_count": 31,
   "metadata": {},
   "outputs": [
    {
     "data": {
      "text/plain": [
       "array([[4.2e+03, 5.0e+00],\n",
       "       [6.5e+03, 8.0e+00],\n",
       "       [8.0e+03,     nan]])"
      ]
     },
     "execution_count": 31,
     "metadata": {},
     "output_type": "execute_result"
    }
   ],
   "source": [
    "# Just like a Series, a DataFrame also stores its values in a NumPy array:\n",
    "city_data.values"
   ]
  },
  {
   "cell_type": "code",
   "execution_count": 32,
   "metadata": {},
   "outputs": [
    {
     "data": {
      "text/plain": [
       "[Index(['Amsterdam', 'Tokyo', 'Toronto'], dtype='object'),\n",
       " Index(['revenue', 'employee_count'], dtype='object')]"
      ]
     },
     "execution_count": 32,
     "metadata": {},
     "output_type": "execute_result"
    }
   ],
   "source": [
    "# You can also refer to the 2 dimensions of a DataFrame as axes:\n",
    "city_data.axes"
   ]
  },
  {
   "cell_type": "code",
   "execution_count": 33,
   "metadata": {},
   "outputs": [
    {
     "data": {
      "text/plain": [
       "Index(['Amsterdam', 'Tokyo', 'Toronto'], dtype='object')"
      ]
     },
     "execution_count": 33,
     "metadata": {},
     "output_type": "execute_result"
    }
   ],
   "source": [
    "city_data.axes[0]"
   ]
  },
  {
   "cell_type": "code",
   "execution_count": 34,
   "metadata": {},
   "outputs": [
    {
     "data": {
      "text/plain": [
       "Index(['revenue', 'employee_count'], dtype='object')"
      ]
     },
     "execution_count": 34,
     "metadata": {},
     "output_type": "execute_result"
    }
   ],
   "source": [
    "city_data.axes[1]"
   ]
  },
  {
   "cell_type": "markdown",
   "metadata": {},
   "source": [
    "* The axis marked with 0 is the row index, and the axis marked with 1 is the column index. This terminology is important to know because you’ll encounter several DataFrame methods that accept an axis parameter.\n",
    "* A DataFrame is also a dictionary-like data structure, so it also supports `.keys()` and the in keyword. However, for a DataFrame these don’t relate to the index, but to the columns:"
   ]
  },
  {
   "cell_type": "code",
   "execution_count": 35,
   "metadata": {},
   "outputs": [
    {
     "data": {
      "text/plain": [
       "Index(['revenue', 'employee_count'], dtype='object')"
      ]
     },
     "execution_count": 35,
     "metadata": {},
     "output_type": "execute_result"
    }
   ],
   "source": [
    "city_data.keys()"
   ]
  },
  {
   "cell_type": "code",
   "execution_count": 36,
   "metadata": {},
   "outputs": [
    {
     "data": {
      "text/plain": [
       "False"
      ]
     },
     "execution_count": 36,
     "metadata": {},
     "output_type": "execute_result"
    }
   ],
   "source": [
    "\"Amsterdam\" in city_data"
   ]
  },
  {
   "cell_type": "code",
   "execution_count": 37,
   "metadata": {},
   "outputs": [
    {
     "data": {
      "text/plain": [
       "True"
      ]
     },
     "execution_count": 37,
     "metadata": {},
     "output_type": "execute_result"
    }
   ],
   "source": [
    "\"revenue\" in city_data"
   ]
  },
  {
   "cell_type": "markdown",
   "metadata": {},
   "source": [
    "* You can see these concepts in action with the bigger NBA dataset. Does it contain a column called \"points\", or was it called \"pts\"? To answer this question, display the index and the axes of the nba dataset, then expand the code block below for the solution:\n",
    "*  Because you didn’t specify an index column when you read in the CSV file, Pandas has assigned a RangeIndex to the DataFrame:"
   ]
  },
  {
   "cell_type": "code",
   "execution_count": 38,
   "metadata": {},
   "outputs": [
    {
     "data": {
      "text/plain": [
       "RangeIndex(start=0, stop=126314, step=1)"
      ]
     },
     "execution_count": 38,
     "metadata": {},
     "output_type": "execute_result"
    }
   ],
   "source": [
    "nba.index"
   ]
  },
  {
   "cell_type": "code",
   "execution_count": 39,
   "metadata": {},
   "outputs": [
    {
     "data": {
      "text/plain": [
       "[RangeIndex(start=0, stop=126314, step=1),\n",
       " Index(['gameorder', 'game_id', 'lg_id', '_iscopy', 'year_id', 'date_game',\n",
       "        'seasongame', 'is_playoffs', 'team_id', 'fran_id', 'pts', 'elo_i',\n",
       "        'elo_n', 'win_equiv', 'opp_id', 'opp_fran', 'opp_pts', 'opp_elo_i',\n",
       "        'opp_elo_n', 'game_location', 'game_result', 'forecast', 'notes',\n",
       "        'date_played'],\n",
       "       dtype='object')]"
      ]
     },
     "execution_count": 39,
     "metadata": {},
     "output_type": "execute_result"
    }
   ],
   "source": [
    "# nba, like all DataFrame objects, has two axes:\n",
    "nba.axes"
   ]
  },
  {
   "cell_type": "code",
   "execution_count": 40,
   "metadata": {},
   "outputs": [
    {
     "data": {
      "text/plain": [
       "False"
      ]
     },
     "execution_count": 40,
     "metadata": {},
     "output_type": "execute_result"
    }
   ],
   "source": [
    "# You can check the existence of a column with .keys():\n",
    "\"points\" in nba.keys()"
   ]
  },
  {
   "cell_type": "code",
   "execution_count": 41,
   "metadata": {},
   "outputs": [
    {
     "data": {
      "text/plain": [
       "True"
      ]
     },
     "execution_count": 41,
     "metadata": {},
     "output_type": "execute_result"
    }
   ],
   "source": [
    "# The column is called \"pts\", not \"points\".\n",
    "\"pts\" in nba.keys()"
   ]
  },
  {
   "cell_type": "markdown",
   "metadata": {},
   "source": [
    "* As you use these methods to answer questions about your dataset, be sure to keep in mind whether you’re working with a Series or a DataFrame so that your interpretation is accurate.\n",
    "### Accessing Series Elements\n",
    "* In the section above, you’ve created a Pandas Series based on a Python list and compared the two data structures. You’ve seen how a Series object is similar to lists and dictionaries in several ways. A further similarity is that you can use the **indexing operator ([])** for Series as well.\n",
    "* You’ll also learn how to use two Pandas-specific access methods:\n",
    "    * .loc\n",
    "    * .iloc\n",
    "* You’ll see that these data access methods can be much more readable than the indexing operator.\n",
    "#### Using the Indexing Operator\n",
    "* Recall that a Series has two indices:\n",
    "    * A positional or implicit index, which is always a RangeIndex\n",
    "    * A label or explicit index, which can contain any hashable objects\n",
    "* Next, revisit the city_revenues object:"
   ]
  },
  {
   "cell_type": "code",
   "execution_count": 42,
   "metadata": {},
   "outputs": [
    {
     "data": {
      "text/plain": [
       "Amsterdam    4200\n",
       "Toronto      8000\n",
       "Tokyo        6500\n",
       "dtype: int64"
      ]
     },
     "execution_count": 42,
     "metadata": {},
     "output_type": "execute_result"
    }
   ],
   "source": [
    "city_revenues"
   ]
  },
  {
   "cell_type": "markdown",
   "metadata": {},
   "source": [
    "* You can conveniently access the values in a Series with both the label and positional indices:"
   ]
  },
  {
   "cell_type": "code",
   "execution_count": 43,
   "metadata": {},
   "outputs": [
    {
     "data": {
      "text/plain": [
       "8000"
      ]
     },
     "execution_count": 43,
     "metadata": {},
     "output_type": "execute_result"
    }
   ],
   "source": [
    "city_revenues[\"Toronto\"]"
   ]
  },
  {
   "cell_type": "code",
   "execution_count": 44,
   "metadata": {},
   "outputs": [
    {
     "data": {
      "text/plain": [
       "8000"
      ]
     },
     "execution_count": 44,
     "metadata": {},
     "output_type": "execute_result"
    }
   ],
   "source": [
    "city_revenues[1]"
   ]
  },
  {
   "cell_type": "markdown",
   "metadata": {},
   "source": [
    "* You can also use negative indices and slices, just like you would for a list:"
   ]
  },
  {
   "cell_type": "code",
   "execution_count": 45,
   "metadata": {},
   "outputs": [
    {
     "data": {
      "text/plain": [
       "6500"
      ]
     },
     "execution_count": 45,
     "metadata": {},
     "output_type": "execute_result"
    }
   ],
   "source": [
    "city_revenues[-1]"
   ]
  },
  {
   "cell_type": "code",
   "execution_count": 46,
   "metadata": {},
   "outputs": [
    {
     "data": {
      "text/plain": [
       "Toronto    8000\n",
       "Tokyo      6500\n",
       "dtype: int64"
      ]
     },
     "execution_count": 46,
     "metadata": {},
     "output_type": "execute_result"
    }
   ],
   "source": [
    "city_revenues[1:]"
   ]
  },
  {
   "cell_type": "code",
   "execution_count": 47,
   "metadata": {},
   "outputs": [
    {
     "data": {
      "text/plain": [
       "Toronto    8000\n",
       "Tokyo      6500\n",
       "dtype: int64"
      ]
     },
     "execution_count": 47,
     "metadata": {},
     "output_type": "execute_result"
    }
   ],
   "source": [
    "city_revenues[\"Toronto\":]"
   ]
  },
  {
   "cell_type": "markdown",
   "metadata": {},
   "source": [
    "* If you want to learn more about the possibilities of the indexing operator, then check out [Lists and Tuples in Python](https://realpython.com/python-lists-tuples/).\n",
    "\n",
    "### Using .loc and .iloc\n",
    "* The indexing operator `([])` is convenient, but there’s a caveat. What if the labels are also numbers? Say you have to work with a Series object like this:"
   ]
  },
  {
   "cell_type": "code",
   "execution_count": 48,
   "metadata": {},
   "outputs": [
    {
     "data": {
      "text/plain": [
       "1       red\n",
       "2    purple\n",
       "3      blue\n",
       "5     green\n",
       "8    yellow\n",
       "dtype: object"
      ]
     },
     "execution_count": 48,
     "metadata": {},
     "output_type": "execute_result"
    }
   ],
   "source": [
    "colors = pd.Series(\n",
    "[\"red\", \"purple\", \"blue\", \"green\", \"yellow\"],\n",
    "index=[1, 2, 3, 5, 8]\n",
    ")\n",
    "\n",
    "colors"
   ]
  },
  {
   "cell_type": "markdown",
   "metadata": {},
   "source": [
    "* What will `colors[1]` return? For a positional index, `colors[1]` is \"purple\". However, if you go by the label index, then `colors[1]` is referring to \"red\".\n",
    "* The good news is, you don’t have to figure it out! Instead, to avoid confusion, the Pandas Python library provides two data access methods:\n",
    "    * .loc refers to the label index.\n",
    "    * .iloc refers to the positional index.\n",
    "* These data access methods are much more readable:"
   ]
  },
  {
   "cell_type": "code",
   "execution_count": 49,
   "metadata": {},
   "outputs": [
    {
     "data": {
      "text/plain": [
       "'red'"
      ]
     },
     "execution_count": 49,
     "metadata": {},
     "output_type": "execute_result"
    }
   ],
   "source": [
    "colors.loc[1]"
   ]
  },
  {
   "cell_type": "code",
   "execution_count": 50,
   "metadata": {},
   "outputs": [
    {
     "data": {
      "text/plain": [
       "'purple'"
      ]
     },
     "execution_count": 50,
     "metadata": {},
     "output_type": "execute_result"
    }
   ],
   "source": [
    "colors.iloc[1]"
   ]
  },
  {
   "cell_type": "markdown",
   "metadata": {},
   "source": [
    "* colors.loc[1] returned \"red\", the element with the label 1. colors.iloc[1] returned \"purple\", the element with the index 1.\n",
    "\n",
    "* The following figure shows which elements .loc and .iloc refer to:\n",
    "\n",
    "![](https://files.realpython.com/media/iloc_vs_loc_80_border20.d5280f475f4e.png)\n",
    "\n",
    "* Again, `.loc` points to the label index on the right-hand side of the image. Meanwhile, .iloc points to the positional index on the left-hand side of the picture.\n",
    "\n",
    "* It’s easier to keep in mind the distinction between `.loc` and `.iloc` than it is to figure out what the indexing operator will return. Even if you’re familiar with all the quirks of the indexing operator, it can be dangerous to assume that everybody who reads your code has internalized those rules as well!\n",
    "* `.loc` and `.iloc` also support the features you would expect from indexing operators, like slicing. However, these data access methods have an important difference. While `.iloc` excludes the closing element, `.loc` includes it. Take a look at this code block:"
   ]
  },
  {
   "cell_type": "code",
   "execution_count": 51,
   "metadata": {},
   "outputs": [
    {
     "data": {
      "text/plain": [
       "2    purple\n",
       "3      blue\n",
       "dtype: object"
      ]
     },
     "execution_count": 51,
     "metadata": {},
     "output_type": "execute_result"
    }
   ],
   "source": [
    "# Return the elements with the implicit index: 1, 2\n",
    "colors.iloc[1:3]"
   ]
  },
  {
   "cell_type": "markdown",
   "metadata": {},
   "source": [
    "* If you compare this code with the image above, then you can see that colors`.iloc[1:3]` returns the elements with the positional indices of 1 and 2. The closing item \"green\" with a positional index of 3 is excluded.\n",
    "\n",
    "* On the other hand, `.loc` includes the closing element:"
   ]
  },
  {
   "cell_type": "code",
   "execution_count": 52,
   "metadata": {},
   "outputs": [
    {
     "data": {
      "text/plain": [
       "3      blue\n",
       "5     green\n",
       "8    yellow\n",
       "dtype: object"
      ]
     },
     "execution_count": 52,
     "metadata": {},
     "output_type": "execute_result"
    }
   ],
   "source": [
    "# Return the elements with the explicit index between 3 and 8\n",
    "colors.loc[3:8]"
   ]
  },
  {
   "cell_type": "markdown",
   "metadata": {},
   "source": [
    "* This code block says to return all elements with a label index between 3 and 8. Here, the closing item \"yellow\" has a label index of 8 and is included in the output.\n",
    "\n",
    "* You can also pass a negative positional index to `.iloc`:"
   ]
  },
  {
   "cell_type": "code",
   "execution_count": 53,
   "metadata": {},
   "outputs": [
    {
     "data": {
      "text/plain": [
       "'green'"
      ]
     },
     "execution_count": 53,
     "metadata": {},
     "output_type": "execute_result"
    }
   ],
   "source": [
    "# You start from the end of the Series and return the second element.\n",
    "colors.iloc[-2]"
   ]
  },
  {
   "cell_type": "markdown",
   "metadata": {},
   "source": [
    "* You can use the code blocks above to distinguish between two Series behaviors:\n",
    "\n",
    "    * You can use .iloc on a Series similar to using [] on a list.\n",
    "    * You can use .loc on a Series similar to using [] on a dictionary.\n",
    "* Be sure to keep these distinctions in mind as you access elements of your Series objects.\n",
    "### Accessing DataFrame Elements\n",
    "* Since a DataFrame consists of Series objects, you can use the very same tools to access its elements. The crucial difference is the additional **dimension** of the DataFrame. You’ll use the indexing operator for the columns and the access methods .loc and .iloc on the rows.\n",
    "#### Using the Indexing Operator\n",
    "* If you think of a DataFrame as a dictionary whose values are Series, then it makes sense that you can access its columns with the indexing operator:"
   ]
  },
  {
   "cell_type": "code",
   "execution_count": 54,
   "metadata": {},
   "outputs": [
    {
     "data": {
      "text/plain": [
       "Amsterdam    4200\n",
       "Tokyo        6500\n",
       "Toronto      8000\n",
       "Name: revenue, dtype: int64"
      ]
     },
     "execution_count": 54,
     "metadata": {},
     "output_type": "execute_result"
    }
   ],
   "source": [
    " city_data[\"revenue\"]"
   ]
  },
  {
   "cell_type": "code",
   "execution_count": 55,
   "metadata": {},
   "outputs": [
    {
     "data": {
      "text/plain": [
       "pandas.core.series.Series"
      ]
     },
     "execution_count": 55,
     "metadata": {},
     "output_type": "execute_result"
    }
   ],
   "source": [
    "type(city_data[\"revenue\"])"
   ]
  },
  {
   "cell_type": "markdown",
   "metadata": {},
   "source": [
    "* Here, you use the indexing operator to select the column labeled \"revenue\".\n",
    "\n",
    "* If the column name is a string, then you can use attribute-style accessing with dot notation as well:"
   ]
  },
  {
   "cell_type": "code",
   "execution_count": 56,
   "metadata": {},
   "outputs": [
    {
     "data": {
      "text/plain": [
       "Amsterdam    4200\n",
       "Tokyo        6500\n",
       "Toronto      8000\n",
       "Name: revenue, dtype: int64"
      ]
     },
     "execution_count": 56,
     "metadata": {},
     "output_type": "execute_result"
    }
   ],
   "source": [
    "city_data.revenue"
   ]
  },
  {
   "cell_type": "markdown",
   "metadata": {},
   "source": [
    "* city_data[\"revenue\"] and city_data.revenue return the same output.\n",
    "\n",
    "* There’s one situation where accessing DataFrame elements with dot notation may not work or may lead to surprises. This is when a column name coincides with a DataFrame attribute or method name:"
   ]
  },
  {
   "cell_type": "code",
   "execution_count": 57,
   "metadata": {},
   "outputs": [
    {
     "data": {
      "text/plain": [
       "0    sphere\n",
       "1      cube\n",
       "Name: shape, dtype: object"
      ]
     },
     "execution_count": 57,
     "metadata": {},
     "output_type": "execute_result"
    }
   ],
   "source": [
    "toys = pd.DataFrame([\n",
    "{\"name\": \"ball\", \"shape\": \"sphere\"},\n",
    "{\"name\": \"Rubik's cube\", \"shape\": \"cube\"}\n",
    "])\n",
    "\n",
    "toys[\"shape\"]"
   ]
  },
  {
   "cell_type": "code",
   "execution_count": 58,
   "metadata": {},
   "outputs": [
    {
     "data": {
      "text/plain": [
       "(2, 2)"
      ]
     },
     "execution_count": 58,
     "metadata": {},
     "output_type": "execute_result"
    }
   ],
   "source": [
    "toys.shape"
   ]
  },
  {
   "cell_type": "markdown",
   "metadata": {},
   "source": [
    "* The indexing operation toys[\"shape\"] returns the correct data, but the attribute-style operation toys.shape still returns the shape of the DataFrame. You should only use attribute-style accessing in interactive sessions or for read operations. You shouldn’t use it for production code or for manipulating data (such as defining new columns).\n",
    "\n",
    "#### Using .loc and .iloc\n",
    "* Similar to Series, a DataFrame also provides .loc and .iloc **data access methods**. Remember, .loc uses the label and .iloc the positional index:"
   ]
  },
  {
   "cell_type": "code",
   "execution_count": 59,
   "metadata": {},
   "outputs": [
    {
     "data": {
      "text/plain": [
       "revenue           4200.0\n",
       "employee_count       5.0\n",
       "Name: Amsterdam, dtype: float64"
      ]
     },
     "execution_count": 59,
     "metadata": {},
     "output_type": "execute_result"
    }
   ],
   "source": [
    "city_data.loc[\"Amsterdam\"]"
   ]
  },
  {
   "cell_type": "code",
   "execution_count": 60,
   "metadata": {
    "scrolled": false
   },
   "outputs": [
    {
     "data": {
      "text/html": [
       "<div>\n",
       "<style scoped>\n",
       "    .dataframe tbody tr th:only-of-type {\n",
       "        vertical-align: middle;\n",
       "    }\n",
       "\n",
       "    .dataframe tbody tr th {\n",
       "        vertical-align: top;\n",
       "    }\n",
       "\n",
       "    .dataframe thead th {\n",
       "        text-align: right;\n",
       "    }\n",
       "</style>\n",
       "<table border=\"1\" class=\"dataframe\">\n",
       "  <thead>\n",
       "    <tr style=\"text-align: right;\">\n",
       "      <th></th>\n",
       "      <th>revenue</th>\n",
       "      <th>employee_count</th>\n",
       "    </tr>\n",
       "  </thead>\n",
       "  <tbody>\n",
       "    <tr>\n",
       "      <th>Tokyo</th>\n",
       "      <td>6500</td>\n",
       "      <td>8.0</td>\n",
       "    </tr>\n",
       "    <tr>\n",
       "      <th>Toronto</th>\n",
       "      <td>8000</td>\n",
       "      <td>NaN</td>\n",
       "    </tr>\n",
       "  </tbody>\n",
       "</table>\n",
       "</div>"
      ],
      "text/plain": [
       "         revenue  employee_count\n",
       "Tokyo       6500             8.0\n",
       "Toronto     8000             NaN"
      ]
     },
     "execution_count": 60,
     "metadata": {},
     "output_type": "execute_result"
    }
   ],
   "source": [
    "city_data.loc[\"Tokyo\": \"Toronto\"]"
   ]
  },
  {
   "cell_type": "code",
   "execution_count": 61,
   "metadata": {},
   "outputs": [
    {
     "data": {
      "text/plain": [
       "revenue           6500.0\n",
       "employee_count       8.0\n",
       "Name: Tokyo, dtype: float64"
      ]
     },
     "execution_count": 61,
     "metadata": {},
     "output_type": "execute_result"
    }
   ],
   "source": [
    "city_data.iloc[1]"
   ]
  },
  {
   "cell_type": "markdown",
   "metadata": {},
   "source": [
    "* Each line of code selects a different row from city_data:\n",
    "\n",
    "    * **city_data.loc[\"Amsterdam\"]** selects the row with the label index \"Amsterdam\".\n",
    "    * **city_data.loc[\"Tokyo\": \"Toronto\"]** selects the rows with label indices from \"Tokyo\" to \"Toronto\". Remember, .loc is inclusive.\n",
    "    * **city_data.iloc[1]** selects the row with the positional index 1, which is \"Tokyo\".\n",
    "* Alright, you’ve used .loc and .iloc on small data structures. Now, it’s time to practice with something bigger! Use a data access method to display the second-to-last row of the nba dataset. Then, expand the code block below to see a solution:"
   ]
  },
  {
   "cell_type": "code",
   "execution_count": 62,
   "metadata": {},
   "outputs": [
    {
     "data": {
      "text/plain": [
       "gameorder                      63157\n",
       "game_id                 201506170CLE\n",
       "lg_id                            NBA\n",
       "_iscopy                            0\n",
       "year_id                         2015\n",
       "date_game                  6/16/2015\n",
       "seasongame                       102\n",
       "is_playoffs                        1\n",
       "team_id                          CLE\n",
       "fran_id                    Cavaliers\n",
       "pts                               97\n",
       "elo_i                        1700.74\n",
       "elo_n                        1692.09\n",
       "win_equiv                      59.29\n",
       "opp_id                           GSW\n",
       "opp_fran                    Warriors\n",
       "opp_pts                          105\n",
       "opp_elo_i                    1813.63\n",
       "opp_elo_n                    1822.29\n",
       "game_location                      H\n",
       "game_result                        L\n",
       "forecast                        0.48\n",
       "notes                            NaN\n",
       "date_played      2015-06-16 00:00:00\n",
       "Name: 126312, dtype: object"
      ]
     },
     "execution_count": 62,
     "metadata": {},
     "output_type": "execute_result"
    }
   ],
   "source": [
    "# The second-to-last row is the row with the positional index of -2. You can \n",
    "# display it with .iloc:\n",
    "nba.iloc[-2]"
   ]
  },
  {
   "cell_type": "markdown",
   "metadata": {},
   "source": [
    "* For a DataFrame, the data access methods .loc and .iloc also accept a second parameter. While the first parameter selects rows based on the indices, the second parameter selects the columns. You can use these parameters together to select a subset of rows and columns from your DataFrame:"
   ]
  },
  {
   "cell_type": "code",
   "execution_count": 63,
   "metadata": {},
   "outputs": [
    {
     "data": {
      "text/plain": [
       "Amsterdam    4200\n",
       "Tokyo        6500\n",
       "Name: revenue, dtype: int64"
      ]
     },
     "execution_count": 63,
     "metadata": {},
     "output_type": "execute_result"
    }
   ],
   "source": [
    "city_data.loc[\"Amsterdam\": \"Tokyo\", \"revenue\"]"
   ]
  },
  {
   "cell_type": "markdown",
   "metadata": {},
   "source": [
    "* Note that you separate the parameters with a comma (,). The first parameter, \"Amsterdam\" : \"Tokyo,\" says to select all rows between those two labels. The second parameter comes after the comma and says to select the \"revenue\" column.\n",
    "\n",
    "* It’s time to see the same construct in action with the bigger nba dataset. Select all games between the labels 5555 and 5559. You’re only interested in the names of the teams and the scores, so select those elements as well. Expand the code block below to see a solution:"
   ]
  },
  {
   "cell_type": "code",
   "execution_count": 64,
   "metadata": {},
   "outputs": [
    {
     "data": {
      "text/html": [
       "<div>\n",
       "<style scoped>\n",
       "    .dataframe tbody tr th:only-of-type {\n",
       "        vertical-align: middle;\n",
       "    }\n",
       "\n",
       "    .dataframe tbody tr th {\n",
       "        vertical-align: top;\n",
       "    }\n",
       "\n",
       "    .dataframe thead th {\n",
       "        text-align: right;\n",
       "    }\n",
       "</style>\n",
       "<table border=\"1\" class=\"dataframe\">\n",
       "  <thead>\n",
       "    <tr style=\"text-align: right;\">\n",
       "      <th></th>\n",
       "      <th>fran_id</th>\n",
       "      <th>opp_fran</th>\n",
       "      <th>pts</th>\n",
       "      <th>opp_pts</th>\n",
       "    </tr>\n",
       "  </thead>\n",
       "  <tbody>\n",
       "    <tr>\n",
       "      <th>5555</th>\n",
       "      <td>Pistons</td>\n",
       "      <td>Warriors</td>\n",
       "      <td>83</td>\n",
       "      <td>56</td>\n",
       "    </tr>\n",
       "    <tr>\n",
       "      <th>5556</th>\n",
       "      <td>Celtics</td>\n",
       "      <td>Knicks</td>\n",
       "      <td>95</td>\n",
       "      <td>74</td>\n",
       "    </tr>\n",
       "    <tr>\n",
       "      <th>5557</th>\n",
       "      <td>Knicks</td>\n",
       "      <td>Celtics</td>\n",
       "      <td>74</td>\n",
       "      <td>95</td>\n",
       "    </tr>\n",
       "    <tr>\n",
       "      <th>5558</th>\n",
       "      <td>Kings</td>\n",
       "      <td>Sixers</td>\n",
       "      <td>81</td>\n",
       "      <td>86</td>\n",
       "    </tr>\n",
       "    <tr>\n",
       "      <th>5559</th>\n",
       "      <td>Sixers</td>\n",
       "      <td>Kings</td>\n",
       "      <td>86</td>\n",
       "      <td>81</td>\n",
       "    </tr>\n",
       "  </tbody>\n",
       "</table>\n",
       "</div>"
      ],
      "text/plain": [
       "      fran_id  opp_fran  pts  opp_pts\n",
       "5555  Pistons  Warriors   83       56\n",
       "5556  Celtics    Knicks   95       74\n",
       "5557   Knicks   Celtics   74       95\n",
       "5558    Kings    Sixers   81       86\n",
       "5559   Sixers     Kings   86       81"
      ]
     },
     "execution_count": 64,
     "metadata": {},
     "output_type": "execute_result"
    }
   ],
   "source": [
    "# First, define which rows you want to see, then list the relevant columns:\n",
    "\n",
    "nba.loc[5555:5559, [\"fran_id\", \"opp_fran\", \"pts\", \"opp_pts\"]]"
   ]
  },
  {
   "cell_type": "markdown",
   "metadata": {},
   "source": [
    "* You use .loc for the label index and a comma (,) to separate your two parameters.\n",
    "* You should see a small part of your quite huge dataset.\n",
    "* With data access methods like .loc and .iloc, you can select just the right subset of your DataFrame to help you answer questions about your dataset.\n",
    "\n",
    "### Querying Your Dataset\n",
    "* You’ve seen how to access subsets of a huge dataset based on its indices. Now, you’ll select rows based on the values in your dataset’s columns to `query` your data. For example, you can create a new DataFrame that contains only games played after 2010:"
   ]
  },
  {
   "cell_type": "code",
   "execution_count": 65,
   "metadata": {},
   "outputs": [
    {
     "data": {
      "text/plain": [
       "(12658, 24)"
      ]
     },
     "execution_count": 65,
     "metadata": {},
     "output_type": "execute_result"
    }
   ],
   "source": [
    "current_decade = nba[nba[\"year_id\"] > 2010]\n",
    "current_decade.shape"
   ]
  },
  {
   "cell_type": "markdown",
   "metadata": {},
   "source": [
    "* You now have 24 columns, but your new DataFrame only consists of rows where the value in the \"year_id\" column is greater than 2010.\n",
    "\n",
    "* You can also select the rows where a specific field is not null:"
   ]
  },
  {
   "cell_type": "code",
   "execution_count": 66,
   "metadata": {},
   "outputs": [
    {
     "data": {
      "text/plain": [
       "(5424, 24)"
      ]
     },
     "execution_count": 66,
     "metadata": {},
     "output_type": "execute_result"
    }
   ],
   "source": [
    "games_with_notes = nba[nba[\"notes\"].notnull()]\n",
    "games_with_notes.shape"
   ]
  },
  {
   "cell_type": "markdown",
   "metadata": {},
   "source": [
    "* This can be helpful if you want to avoid any missing values in a column. You can also use .notna() to achieve the same goal.\n",
    "\n",
    "* You can even access values of the object data type as str and perform string methods on them:"
   ]
  },
  {
   "cell_type": "code",
   "execution_count": 67,
   "metadata": {},
   "outputs": [
    {
     "data": {
      "text/plain": [
       "(27797, 24)"
      ]
     },
     "execution_count": 67,
     "metadata": {},
     "output_type": "execute_result"
    }
   ],
   "source": [
    "ers = nba[nba[\"fran_id\"].str.endswith(\"ers\")]\n",
    "ers.shape"
   ]
  },
  {
   "cell_type": "markdown",
   "metadata": {},
   "source": [
    "* You use `.str.endswith()` to filter your dataset and find all games where the home team’s name ends with \"ers\".\n",
    "* You can combine multiple criteria and query your dataset as well. To do this, be sure to put each one in parentheses and use the logical operators | and & to separate them.\n",
    "* Do a search for Baltimore games where both teams scored over 100 points. In order to see each game only once, you’ll need to exclude duplicates:"
   ]
  },
  {
   "cell_type": "code",
   "execution_count": 68,
   "metadata": {},
   "outputs": [
    {
     "data": {
      "text/html": [
       "<div>\n",
       "<style scoped>\n",
       "    .dataframe tbody tr th:only-of-type {\n",
       "        vertical-align: middle;\n",
       "    }\n",
       "\n",
       "    .dataframe tbody tr th {\n",
       "        vertical-align: top;\n",
       "    }\n",
       "\n",
       "    .dataframe thead th {\n",
       "        text-align: right;\n",
       "    }\n",
       "</style>\n",
       "<table border=\"1\" class=\"dataframe\">\n",
       "  <thead>\n",
       "    <tr style=\"text-align: right;\">\n",
       "      <th></th>\n",
       "      <th>gameorder</th>\n",
       "      <th>game_id</th>\n",
       "      <th>lg_id</th>\n",
       "      <th>_iscopy</th>\n",
       "      <th>year_id</th>\n",
       "      <th>date_game</th>\n",
       "      <th>seasongame</th>\n",
       "      <th>is_playoffs</th>\n",
       "      <th>team_id</th>\n",
       "      <th>fran_id</th>\n",
       "      <th>pts</th>\n",
       "      <th>elo_i</th>\n",
       "      <th>elo_n</th>\n",
       "      <th>win_equiv</th>\n",
       "      <th>opp_id</th>\n",
       "      <th>opp_fran</th>\n",
       "      <th>opp_pts</th>\n",
       "      <th>opp_elo_i</th>\n",
       "      <th>opp_elo_n</th>\n",
       "      <th>game_location</th>\n",
       "      <th>game_result</th>\n",
       "      <th>forecast</th>\n",
       "      <th>notes</th>\n",
       "      <th>date_played</th>\n",
       "    </tr>\n",
       "  </thead>\n",
       "  <tbody>\n",
       "    <tr>\n",
       "      <th>1726</th>\n",
       "      <td>864</td>\n",
       "      <td>194902260BLB</td>\n",
       "      <td>NBA</td>\n",
       "      <td>0</td>\n",
       "      <td>1949</td>\n",
       "      <td>2/26/1949</td>\n",
       "      <td>53</td>\n",
       "      <td>0</td>\n",
       "      <td>BLB</td>\n",
       "      <td>Baltimore</td>\n",
       "      <td>114</td>\n",
       "      <td>1421.94</td>\n",
       "      <td>1419.43</td>\n",
       "      <td>38.56</td>\n",
       "      <td>MNL</td>\n",
       "      <td>Lakers</td>\n",
       "      <td>115</td>\n",
       "      <td>1637.99</td>\n",
       "      <td>1640.49</td>\n",
       "      <td>H</td>\n",
       "      <td>L</td>\n",
       "      <td>0.34</td>\n",
       "      <td>NaN</td>\n",
       "      <td>1949-02-26</td>\n",
       "    </tr>\n",
       "    <tr>\n",
       "      <th>4890</th>\n",
       "      <td>2446</td>\n",
       "      <td>195301100BLB</td>\n",
       "      <td>NBA</td>\n",
       "      <td>0</td>\n",
       "      <td>1953</td>\n",
       "      <td>1/10/1953</td>\n",
       "      <td>32</td>\n",
       "      <td>0</td>\n",
       "      <td>BLB</td>\n",
       "      <td>Baltimore</td>\n",
       "      <td>126</td>\n",
       "      <td>1328.67</td>\n",
       "      <td>1356.65</td>\n",
       "      <td>25.80</td>\n",
       "      <td>BOS</td>\n",
       "      <td>Celtics</td>\n",
       "      <td>105</td>\n",
       "      <td>1591.14</td>\n",
       "      <td>1563.17</td>\n",
       "      <td>H</td>\n",
       "      <td>W</td>\n",
       "      <td>0.28</td>\n",
       "      <td>NaN</td>\n",
       "      <td>1953-01-10</td>\n",
       "    </tr>\n",
       "    <tr>\n",
       "      <th>4909</th>\n",
       "      <td>2455</td>\n",
       "      <td>195301140BLB</td>\n",
       "      <td>NBA</td>\n",
       "      <td>0</td>\n",
       "      <td>1953</td>\n",
       "      <td>1/14/1953</td>\n",
       "      <td>34</td>\n",
       "      <td>0</td>\n",
       "      <td>BLB</td>\n",
       "      <td>Baltimore</td>\n",
       "      <td>104</td>\n",
       "      <td>1349.83</td>\n",
       "      <td>1346.36</td>\n",
       "      <td>24.88</td>\n",
       "      <td>MNL</td>\n",
       "      <td>Lakers</td>\n",
       "      <td>112</td>\n",
       "      <td>1665.44</td>\n",
       "      <td>1668.91</td>\n",
       "      <td>H</td>\n",
       "      <td>L</td>\n",
       "      <td>0.22</td>\n",
       "      <td>NaN</td>\n",
       "      <td>1953-01-14</td>\n",
       "    </tr>\n",
       "    <tr>\n",
       "      <th>5208</th>\n",
       "      <td>2605</td>\n",
       "      <td>195303110BLB</td>\n",
       "      <td>NBA</td>\n",
       "      <td>0</td>\n",
       "      <td>1953</td>\n",
       "      <td>3/11/1953</td>\n",
       "      <td>66</td>\n",
       "      <td>0</td>\n",
       "      <td>BLB</td>\n",
       "      <td>Baltimore</td>\n",
       "      <td>107</td>\n",
       "      <td>1284.52</td>\n",
       "      <td>1282.24</td>\n",
       "      <td>19.58</td>\n",
       "      <td>NYK</td>\n",
       "      <td>Knicks</td>\n",
       "      <td>113</td>\n",
       "      <td>1649.15</td>\n",
       "      <td>1651.44</td>\n",
       "      <td>H</td>\n",
       "      <td>L</td>\n",
       "      <td>0.18</td>\n",
       "      <td>at Boston MA</td>\n",
       "      <td>1953-03-11</td>\n",
       "    </tr>\n",
       "    <tr>\n",
       "      <th>5825</th>\n",
       "      <td>2913</td>\n",
       "      <td>195402220BLB</td>\n",
       "      <td>NBA</td>\n",
       "      <td>0</td>\n",
       "      <td>1954</td>\n",
       "      <td>2/22/1954</td>\n",
       "      <td>60</td>\n",
       "      <td>0</td>\n",
       "      <td>BLB</td>\n",
       "      <td>Baltimore</td>\n",
       "      <td>110</td>\n",
       "      <td>1303.75</td>\n",
       "      <td>1301.97</td>\n",
       "      <td>20.74</td>\n",
       "      <td>BOS</td>\n",
       "      <td>Celtics</td>\n",
       "      <td>111</td>\n",
       "      <td>1591.49</td>\n",
       "      <td>1593.27</td>\n",
       "      <td>H</td>\n",
       "      <td>L</td>\n",
       "      <td>0.25</td>\n",
       "      <td>at Worcester MA</td>\n",
       "      <td>1954-02-22</td>\n",
       "    </tr>\n",
       "  </tbody>\n",
       "</table>\n",
       "</div>"
      ],
      "text/plain": [
       "      gameorder       game_id lg_id  _iscopy  year_id  date_game  seasongame  \\\n",
       "1726        864  194902260BLB   NBA        0     1949  2/26/1949          53   \n",
       "4890       2446  195301100BLB   NBA        0     1953  1/10/1953          32   \n",
       "4909       2455  195301140BLB   NBA        0     1953  1/14/1953          34   \n",
       "5208       2605  195303110BLB   NBA        0     1953  3/11/1953          66   \n",
       "5825       2913  195402220BLB   NBA        0     1954  2/22/1954          60   \n",
       "\n",
       "      is_playoffs team_id    fran_id  pts    elo_i    elo_n  win_equiv opp_id  \\\n",
       "1726            0     BLB  Baltimore  114  1421.94  1419.43      38.56    MNL   \n",
       "4890            0     BLB  Baltimore  126  1328.67  1356.65      25.80    BOS   \n",
       "4909            0     BLB  Baltimore  104  1349.83  1346.36      24.88    MNL   \n",
       "5208            0     BLB  Baltimore  107  1284.52  1282.24      19.58    NYK   \n",
       "5825            0     BLB  Baltimore  110  1303.75  1301.97      20.74    BOS   \n",
       "\n",
       "     opp_fran  opp_pts  opp_elo_i  opp_elo_n game_location game_result  \\\n",
       "1726   Lakers      115    1637.99    1640.49             H           L   \n",
       "4890  Celtics      105    1591.14    1563.17             H           W   \n",
       "4909   Lakers      112    1665.44    1668.91             H           L   \n",
       "5208   Knicks      113    1649.15    1651.44             H           L   \n",
       "5825  Celtics      111    1591.49    1593.27             H           L   \n",
       "\n",
       "      forecast            notes date_played  \n",
       "1726      0.34              NaN  1949-02-26  \n",
       "4890      0.28              NaN  1953-01-10  \n",
       "4909      0.22              NaN  1953-01-14  \n",
       "5208      0.18     at Boston MA  1953-03-11  \n",
       "5825      0.25  at Worcester MA  1954-02-22  "
      ]
     },
     "execution_count": 68,
     "metadata": {},
     "output_type": "execute_result"
    }
   ],
   "source": [
    "nba[\n",
    "(nba[\"_iscopy\"] == 0) &\n",
    "(nba[\"pts\"] > 100) &\n",
    "(nba[\"opp_pts\"] > 100) &\n",
    "(nba[\"team_id\"] == \"BLB\")\n",
    "]"
   ]
  },
  {
   "cell_type": "markdown",
   "metadata": {},
   "source": [
    "* Here, you use nba[\"_iscopy\"] == 0 to include only the entries that aren’t copies.\n",
    "* Your output should contain five eventful games.\n",
    "* Try to build another query with multiple criteria. In the spring of 1992, both teams from Los Angeles had to play a home game at another court. Query your dataset to find those two games. Both teams have an ID starting with \"LA\". Expand the code block below to see a solution:"
   ]
  },
  {
   "cell_type": "code",
   "execution_count": 69,
   "metadata": {},
   "outputs": [
    {
     "data": {
      "text/html": [
       "<div>\n",
       "<style scoped>\n",
       "    .dataframe tbody tr th:only-of-type {\n",
       "        vertical-align: middle;\n",
       "    }\n",
       "\n",
       "    .dataframe tbody tr th {\n",
       "        vertical-align: top;\n",
       "    }\n",
       "\n",
       "    .dataframe thead th {\n",
       "        text-align: right;\n",
       "    }\n",
       "</style>\n",
       "<table border=\"1\" class=\"dataframe\">\n",
       "  <thead>\n",
       "    <tr style=\"text-align: right;\">\n",
       "      <th></th>\n",
       "      <th>gameorder</th>\n",
       "      <th>game_id</th>\n",
       "      <th>lg_id</th>\n",
       "      <th>_iscopy</th>\n",
       "      <th>year_id</th>\n",
       "      <th>date_game</th>\n",
       "      <th>seasongame</th>\n",
       "      <th>is_playoffs</th>\n",
       "      <th>team_id</th>\n",
       "      <th>fran_id</th>\n",
       "      <th>pts</th>\n",
       "      <th>elo_i</th>\n",
       "      <th>elo_n</th>\n",
       "      <th>win_equiv</th>\n",
       "      <th>opp_id</th>\n",
       "      <th>opp_fran</th>\n",
       "      <th>opp_pts</th>\n",
       "      <th>opp_elo_i</th>\n",
       "      <th>opp_elo_n</th>\n",
       "      <th>game_location</th>\n",
       "      <th>game_result</th>\n",
       "      <th>forecast</th>\n",
       "      <th>notes</th>\n",
       "      <th>date_played</th>\n",
       "    </tr>\n",
       "  </thead>\n",
       "  <tbody>\n",
       "    <tr>\n",
       "      <th>68901</th>\n",
       "      <td>34451</td>\n",
       "      <td>199205030LAC</td>\n",
       "      <td>NBA</td>\n",
       "      <td>0</td>\n",
       "      <td>1992</td>\n",
       "      <td>5/3/1992</td>\n",
       "      <td>86</td>\n",
       "      <td>1</td>\n",
       "      <td>LAC</td>\n",
       "      <td>Clippers</td>\n",
       "      <td>115</td>\n",
       "      <td>1546.90</td>\n",
       "      <td>1556.0</td>\n",
       "      <td>47.89</td>\n",
       "      <td>UTA</td>\n",
       "      <td>Jazz</td>\n",
       "      <td>107</td>\n",
       "      <td>1647.51</td>\n",
       "      <td>1638.41</td>\n",
       "      <td>H</td>\n",
       "      <td>W</td>\n",
       "      <td>0.50</td>\n",
       "      <td>at Anaheim, CA (Anaheim Convention Center)</td>\n",
       "      <td>1992-05-03</td>\n",
       "    </tr>\n",
       "    <tr>\n",
       "      <th>68903</th>\n",
       "      <td>34452</td>\n",
       "      <td>199205030LAL</td>\n",
       "      <td>NBA</td>\n",
       "      <td>0</td>\n",
       "      <td>1992</td>\n",
       "      <td>5/3/1992</td>\n",
       "      <td>86</td>\n",
       "      <td>1</td>\n",
       "      <td>LAL</td>\n",
       "      <td>Lakers</td>\n",
       "      <td>76</td>\n",
       "      <td>1489.65</td>\n",
       "      <td>1474.4</td>\n",
       "      <td>39.40</td>\n",
       "      <td>POR</td>\n",
       "      <td>Trailblazers</td>\n",
       "      <td>102</td>\n",
       "      <td>1655.12</td>\n",
       "      <td>1670.37</td>\n",
       "      <td>H</td>\n",
       "      <td>L</td>\n",
       "      <td>0.41</td>\n",
       "      <td>at Las Vegas, NV</td>\n",
       "      <td>1992-05-03</td>\n",
       "    </tr>\n",
       "  </tbody>\n",
       "</table>\n",
       "</div>"
      ],
      "text/plain": [
       "       gameorder       game_id lg_id  _iscopy  year_id date_game  seasongame  \\\n",
       "68901      34451  199205030LAC   NBA        0     1992  5/3/1992          86   \n",
       "68903      34452  199205030LAL   NBA        0     1992  5/3/1992          86   \n",
       "\n",
       "       is_playoffs team_id   fran_id  pts    elo_i   elo_n  win_equiv opp_id  \\\n",
       "68901            1     LAC  Clippers  115  1546.90  1556.0      47.89    UTA   \n",
       "68903            1     LAL    Lakers   76  1489.65  1474.4      39.40    POR   \n",
       "\n",
       "           opp_fran  opp_pts  opp_elo_i  opp_elo_n game_location game_result  \\\n",
       "68901          Jazz      107    1647.51    1638.41             H           W   \n",
       "68903  Trailblazers      102    1655.12    1670.37             H           L   \n",
       "\n",
       "       forecast                                       notes date_played  \n",
       "68901      0.50  at Anaheim, CA (Anaheim Convention Center)  1992-05-03  \n",
       "68903      0.41                            at Las Vegas, NV  1992-05-03  "
      ]
     },
     "execution_count": 69,
     "metadata": {},
     "output_type": "execute_result"
    }
   ],
   "source": [
    "# Your output should show two games on the day 5/3/1992:\n",
    "\n",
    "nba[\n",
    "(nba[\"_iscopy\"] == 0) &\n",
    "(nba[\"team_id\"].str.startswith(\"LA\")) &\n",
    "(nba[\"year_id\"]==1992) &\n",
    "(nba[\"notes\"].notnull())\n",
    "]"
   ]
  },
  {
   "cell_type": "markdown",
   "metadata": {},
   "source": [
    "* When you know how to query your dataset with multiple criteria, you’ll be able to answer more specific questions about your dataset.\n",
    "\n",
    "### Grouping and Aggregating Your Data\n",
    "* You may also want to learn other features of your dataset, like the sum, mean, or average value of a group of elements. Luckily, the Pandas Python library offers grouping and aggregation functions to help you accomplish this task.\n",
    "* A Series has more than twenty different methods for calculating descriptive statistics. Here are some examples:"
   ]
  },
  {
   "cell_type": "code",
   "execution_count": 70,
   "metadata": {},
   "outputs": [
    {
     "data": {
      "text/plain": [
       "18700"
      ]
     },
     "execution_count": 70,
     "metadata": {},
     "output_type": "execute_result"
    }
   ],
   "source": [
    "city_revenues.sum()"
   ]
  },
  {
   "cell_type": "code",
   "execution_count": 71,
   "metadata": {},
   "outputs": [
    {
     "data": {
      "text/plain": [
       "8000"
      ]
     },
     "execution_count": 71,
     "metadata": {},
     "output_type": "execute_result"
    }
   ],
   "source": [
    "city_revenues.max()"
   ]
  },
  {
   "cell_type": "markdown",
   "metadata": {},
   "source": [
    "* The first method returns the total of city_revenues, while the second returns the max value. There are other methods you can use, like `.min() and .mean()`.\n",
    "\n",
    "* Remember, a column of a DataFrame is actually a Series object. For this reason, you can use these same functions on the columns of nba:"
   ]
  },
  {
   "cell_type": "code",
   "execution_count": 72,
   "metadata": {},
   "outputs": [
    {
     "data": {
      "text/plain": [
       "pandas.core.series.Series"
      ]
     },
     "execution_count": 72,
     "metadata": {},
     "output_type": "execute_result"
    }
   ],
   "source": [
    "points = nba[\"pts\"]\n",
    "type(points)"
   ]
  },
  {
   "cell_type": "code",
   "execution_count": 73,
   "metadata": {},
   "outputs": [
    {
     "data": {
      "text/plain": [
       "12976235"
      ]
     },
     "execution_count": 73,
     "metadata": {},
     "output_type": "execute_result"
    }
   ],
   "source": [
    "points.sum()"
   ]
  },
  {
   "cell_type": "markdown",
   "metadata": {},
   "source": [
    "* A DataFrame can have multiple columns, which introduces new possibilities for aggregations, like **grouping**:"
   ]
  },
  {
   "cell_type": "code",
   "execution_count": 74,
   "metadata": {},
   "outputs": [
    {
     "data": {
      "text/plain": [
       "fran_id\n",
       "Huskies           3995\n",
       "Knicks          582497\n",
       "Stags            20398\n",
       "Falcons           3797\n",
       "Capitols         22387\n",
       "Celtics         626484\n",
       "Steamrollers     12372\n",
       "Ironmen           3674\n",
       "Bombers          17793\n",
       "Rebels            4474\n",
       "Warriors        591224\n",
       "Baltimore        37219\n",
       "Jets              4482\n",
       "Pistons         572758\n",
       "Lakers          637444\n",
       "Kings           569245\n",
       "Hawks           567261\n",
       "Denver            4818\n",
       "Olympians        22864\n",
       "Redskins          5372\n",
       "Waterloo          4921\n",
       "Packers           6193\n",
       "Sixers          585891\n",
       "Wizards         474809\n",
       "Bulls           437269\n",
       "Thunder         437735\n",
       "Squires          91127\n",
       "Stars            84940\n",
       "Rockets         432504\n",
       "Colonels         94435\n",
       "Pacers          438288\n",
       "Nuggets         445780\n",
       "Spurs           453822\n",
       "Spirits          85874\n",
       "Sounds           75582\n",
       "Floridians       49568\n",
       "Nets            417809\n",
       "Condors          49642\n",
       "Bucks           418326\n",
       "Suns            437486\n",
       "Clippers        380523\n",
       "Cavaliers       380416\n",
       "Trailblazers    402695\n",
       "Sails            30080\n",
       "Jazz            363155\n",
       "Mavericks       309239\n",
       "Pelicans        220794\n",
       "Heat            229103\n",
       "Timberwolves    207693\n",
       "Magic           219436\n",
       "Grizzlies       157683\n",
       "Raptors         158370\n",
       "Hornets          84489\n",
       "Name: pts, dtype: int64"
      ]
     },
     "execution_count": 74,
     "metadata": {},
     "output_type": "execute_result"
    }
   ],
   "source": [
    "nba.groupby(\"fran_id\", sort=False)[\"pts\"].sum()"
   ]
  },
  {
   "cell_type": "markdown",
   "metadata": {},
   "source": [
    "* By default, Pandas sorts the group keys during the call to `.groupby()`. If you don’t want to sort, then pass sort=False. This parameter can lead to performance gains.\n",
    "\n",
    "* You can also group by multiple columns:"
   ]
  },
  {
   "cell_type": "code",
   "execution_count": 75,
   "metadata": {},
   "outputs": [
    {
     "data": {
      "text/plain": [
       "year_id  game_result\n",
       "2011     L              25\n",
       "         W              63\n",
       "2012     L              20\n",
       "         W              60\n",
       "2013     L              30\n",
       "         W              73\n",
       "2014     L              27\n",
       "         W              78\n",
       "2015     L              31\n",
       "         W              58\n",
       "Name: game_id, dtype: int64"
      ]
     },
     "execution_count": 75,
     "metadata": {},
     "output_type": "execute_result"
    }
   ],
   "source": [
    "nba[\n",
    "(nba[\"fran_id\"] == \"Spurs\") &\n",
    "(nba[\"year_id\"] > 2010)\n",
    "].groupby([\"year_id\", \"game_result\"])[\"game_id\"].count()"
   ]
  },
  {
   "cell_type": "markdown",
   "metadata": {},
   "source": [
    "* You can practice these basics with an exercise. Take a look at the Golden State Warriors’ 2014-15 season (year_id: 2015). How many wins and losses did they score during the regular season and the playoffs? Expand the code block below for the solution:"
   ]
  },
  {
   "cell_type": "code",
   "execution_count": 76,
   "metadata": {},
   "outputs": [
    {
     "data": {
      "text/plain": [
       "is_playoffs  game_result\n",
       "0            L              15\n",
       "             W              67\n",
       "1            L               5\n",
       "             W              16\n",
       "Name: game_id, dtype: int64"
      ]
     },
     "execution_count": 76,
     "metadata": {},
     "output_type": "execute_result"
    }
   ],
   "source": [
    "# First, you can group by the \"is_playoffs\" field, then by the result:\n",
    "\n",
    "nba[\n",
    "(nba[\"fran_id\"] == \"Warriors\") &\n",
    "(nba[\"year_id\"] == 2015)\n",
    "].groupby([\"is_playoffs\", \"game_result\"])[\"game_id\"].count()"
   ]
  },
  {
   "cell_type": "markdown",
   "metadata": {},
   "source": [
    "* is_playoffs=0 shows the results for the regular season, and is_playoffs=1 shows the results for the playoffs.\n",
    "* In the examples above, you’ve only scratched the surface of the aggregation functions that are available to you in the Pandas Python library. To see more examples of how to use them, check out [Pandas GroupBy: Your Guide to Grouping Data in Python](https://realpython.com/pandas-groupby/)\n",
    "### Manipulating Columns\n",
    "* You’ll need to know how to manipulate your dataset’s columns in different phases of the data analysis process. You can add and drop columns as part of the initial data cleaning phase, or later based on the insights of your analysis.\n",
    "\n",
    "* Create a copy of your original DataFrame to work with:"
   ]
  },
  {
   "cell_type": "code",
   "execution_count": 77,
   "metadata": {},
   "outputs": [
    {
     "data": {
      "text/plain": [
       "(126314, 24)"
      ]
     },
     "execution_count": 77,
     "metadata": {},
     "output_type": "execute_result"
    }
   ],
   "source": [
    "df = nba.copy()\n",
    "df.shape"
   ]
  },
  {
   "cell_type": "code",
   "execution_count": 78,
   "metadata": {},
   "outputs": [
    {
     "data": {
      "text/plain": [
       "(126314, 25)"
      ]
     },
     "execution_count": 78,
     "metadata": {},
     "output_type": "execute_result"
    }
   ],
   "source": [
    "# You can define new columns based on the existing ones:\n",
    "\n",
    "df[\"difference\"] = df.pts - df.opp_pts\n",
    "df.shape"
   ]
  },
  {
   "cell_type": "markdown",
   "metadata": {},
   "source": [
    "* Here, you used the \"pts\" and \"opp_pts\" columns to create a new one called \"difference\". This new column has the same functions as the old ones:"
   ]
  },
  {
   "cell_type": "code",
   "execution_count": 79,
   "metadata": {},
   "outputs": [
    {
     "data": {
      "text/plain": [
       "68"
      ]
     },
     "execution_count": 79,
     "metadata": {},
     "output_type": "execute_result"
    }
   ],
   "source": [
    "df[\"difference\"].max()"
   ]
  },
  {
   "cell_type": "markdown",
   "metadata": {},
   "source": [
    "* Here, you used an aggregation function .max() to find the largest value of your new column.\n",
    "\n",
    "* You can also rename the columns of your dataset. It seems that \"game_result\" and \"game_location\" are too verbose, so go ahead and rename them now:"
   ]
  },
  {
   "cell_type": "code",
   "execution_count": 80,
   "metadata": {},
   "outputs": [
    {
     "name": "stdout",
     "output_type": "stream",
     "text": [
      "<class 'pandas.core.frame.DataFrame'>\n",
      "RangeIndex: 126314 entries, 0 to 126313\n",
      "Data columns (total 25 columns):\n",
      " #   Column       Non-Null Count   Dtype         \n",
      "---  ------       --------------   -----         \n",
      " 0   gameorder    126314 non-null  int64         \n",
      " 1   game_id      126314 non-null  object        \n",
      " 2   lg_id        126314 non-null  object        \n",
      " 3   _iscopy      126314 non-null  int64         \n",
      " 4   year_id      126314 non-null  int64         \n",
      " 5   date_game    126314 non-null  object        \n",
      " 6   seasongame   126314 non-null  int64         \n",
      " 7   is_playoffs  126314 non-null  int64         \n",
      " 8   team_id      126314 non-null  object        \n",
      " 9   fran_id      126314 non-null  object        \n",
      " 10  pts          126314 non-null  int64         \n",
      " 11  elo_i        126314 non-null  float64       \n",
      " 12  elo_n        126314 non-null  float64       \n",
      " 13  win_equiv    126314 non-null  float64       \n",
      " 14  opp_id       126314 non-null  object        \n",
      " 15  opp_fran     126314 non-null  object        \n",
      " 16  opp_pts      126314 non-null  int64         \n",
      " 17  opp_elo_i    126314 non-null  float64       \n",
      " 18  opp_elo_n    126314 non-null  float64       \n",
      " 19  location     126314 non-null  object        \n",
      " 20  result       126314 non-null  object        \n",
      " 21  forecast     126314 non-null  float64       \n",
      " 22  notes        5424 non-null    object        \n",
      " 23  date_played  126314 non-null  datetime64[ns]\n",
      " 24  difference   126314 non-null  int64         \n",
      "dtypes: datetime64[ns](1), float64(6), int64(8), object(10)\n",
      "memory usage: 24.1+ MB\n"
     ]
    }
   ],
   "source": [
    "renamed_df = df.rename(\n",
    "columns={\"game_result\": \"result\", \"game_location\": \"location\"}\n",
    ")\n",
    "renamed_df.info()"
   ]
  },
  {
   "cell_type": "markdown",
   "metadata": {},
   "source": [
    "* Note that there’s a new object, renamed_df. Like several other data manipulation methods, `.rename()` returns a new DataFrame by default. If you want to manipulate the original DataFrame directly, then `.rename()` also provides an inplace parameter that you can set to True.\n",
    "\n",
    "* Your dataset might contain columns that you don’t need. For example, Elo ratings may be a fascinating concept to some, but you won’t analyze them in this tutorial. You can delete the four columns related to Elo:"
   ]
  },
  {
   "cell_type": "code",
   "execution_count": 81,
   "metadata": {},
   "outputs": [
    {
     "data": {
      "text/plain": [
       "(126314, 25)"
      ]
     },
     "execution_count": 81,
     "metadata": {},
     "output_type": "execute_result"
    }
   ],
   "source": [
    "df.shape"
   ]
  },
  {
   "cell_type": "code",
   "execution_count": 82,
   "metadata": {},
   "outputs": [
    {
     "data": {
      "text/plain": [
       "(126314, 21)"
      ]
     },
     "execution_count": 82,
     "metadata": {},
     "output_type": "execute_result"
    }
   ],
   "source": [
    "elo_columns = [\"elo_i\", \"elo_n\", \"opp_elo_i\", \"opp_elo_n\"]\n",
    "df.drop(elo_columns, inplace=True, axis=1)\n",
    "df.shape"
   ]
  },
  {
   "cell_type": "markdown",
   "metadata": {},
   "source": [
    "* Remember, you added the new column \"difference\" in a previous example, bringing the total number of columns to 25. When you remove the four Elo columns, the total number of columns drops to 21.\n",
    "### Specifying Data Types\n",
    "* When you create a new DataFrame, either by calling a constructor or reading a CSV file, Pandas assigns a **data type** to each column based on its values. While it does a pretty good job, it’s not perfect. If you choose the right data type for your columns upfront, then you can significantly improve your code’s performance.\n",
    "\n",
    "* Take another look at the columns of the nba dataset:"
   ]
  },
  {
   "cell_type": "code",
   "execution_count": 83,
   "metadata": {},
   "outputs": [
    {
     "name": "stdout",
     "output_type": "stream",
     "text": [
      "<class 'pandas.core.frame.DataFrame'>\n",
      "RangeIndex: 126314 entries, 0 to 126313\n",
      "Data columns (total 21 columns):\n",
      " #   Column         Non-Null Count   Dtype         \n",
      "---  ------         --------------   -----         \n",
      " 0   gameorder      126314 non-null  int64         \n",
      " 1   game_id        126314 non-null  object        \n",
      " 2   lg_id          126314 non-null  object        \n",
      " 3   _iscopy        126314 non-null  int64         \n",
      " 4   year_id        126314 non-null  int64         \n",
      " 5   date_game      126314 non-null  object        \n",
      " 6   seasongame     126314 non-null  int64         \n",
      " 7   is_playoffs    126314 non-null  int64         \n",
      " 8   team_id        126314 non-null  object        \n",
      " 9   fran_id        126314 non-null  object        \n",
      " 10  pts            126314 non-null  int64         \n",
      " 11  win_equiv      126314 non-null  float64       \n",
      " 12  opp_id         126314 non-null  object        \n",
      " 13  opp_fran       126314 non-null  object        \n",
      " 14  opp_pts        126314 non-null  int64         \n",
      " 15  game_location  126314 non-null  object        \n",
      " 16  game_result    126314 non-null  object        \n",
      " 17  forecast       126314 non-null  float64       \n",
      " 18  notes          5424 non-null    object        \n",
      " 19  date_played    126314 non-null  datetime64[ns]\n",
      " 20  difference     126314 non-null  int64         \n",
      "dtypes: datetime64[ns](1), float64(2), int64(8), object(10)\n",
      "memory usage: 20.2+ MB\n"
     ]
    }
   ],
   "source": [
    "df.info()"
   ]
  },
  {
   "cell_type": "markdown",
   "metadata": {},
   "source": [
    "* You’ll see the same output as before.\n",
    "* Ten of your columns have the data type object. Most of these object columns contain arbitrary text, but there are also some candidates for data type conversion. For example, take a look at the date_game column:"
   ]
  },
  {
   "cell_type": "code",
   "execution_count": 84,
   "metadata": {},
   "outputs": [],
   "source": [
    "df[\"date_game\"] = pd.to_datetime(df[\"date_game\"])"
   ]
  },
  {
   "cell_type": "markdown",
   "metadata": {},
   "source": [
    "* Here, you use `.to_datetime()` to specify all game dates as datetime objects.\n",
    "\n",
    "* Other columns contain text that are a bit more structured. The game_location column can have only three different values:"
   ]
  },
  {
   "cell_type": "code",
   "execution_count": 85,
   "metadata": {},
   "outputs": [
    {
     "data": {
      "text/plain": [
       "3"
      ]
     },
     "execution_count": 85,
     "metadata": {},
     "output_type": "execute_result"
    }
   ],
   "source": [
    "df[\"game_location\"].nunique()"
   ]
  },
  {
   "cell_type": "code",
   "execution_count": 86,
   "metadata": {},
   "outputs": [
    {
     "data": {
      "text/plain": [
       "H    63138\n",
       "A    63138\n",
       "N       38\n",
       "Name: game_location, dtype: int64"
      ]
     },
     "execution_count": 86,
     "metadata": {},
     "output_type": "execute_result"
    }
   ],
   "source": [
    "df[\"game_location\"].value_counts()"
   ]
  },
  {
   "cell_type": "markdown",
   "metadata": {},
   "source": [
    "* Which data type would you use in a relational database for such a column? You would probably not use a varchar type, but rather an enum. Pandas provides the categorical data type for the same purpose:"
   ]
  },
  {
   "cell_type": "code",
   "execution_count": 87,
   "metadata": {},
   "outputs": [
    {
     "data": {
      "text/plain": [
       "CategoricalDtype(categories=['A', 'H', 'N'], ordered=False)"
      ]
     },
     "execution_count": 87,
     "metadata": {},
     "output_type": "execute_result"
    }
   ],
   "source": [
    "df[\"game_location\"] = pd.Categorical(df[\"game_location\"])\n",
    "df[\"game_location\"].dtype"
   ]
  },
  {
   "cell_type": "markdown",
   "metadata": {},
   "source": [
    "* categorical data has a few advantages over unstructured text. When you specify the categorical data type, you make validation easier and save a ton of memory, as Pandas will only use the unique values internally. The higher the ratio of total values to unique values, the more space savings you’ll get.\n",
    "* Run `df.info()` again. You should see that changing the game_location data type from object to categorical has decreased the memory usage.\n",
    "* You’ll often encounter datasets with too many text columns. An essential skill for data scientists to have is the ability to spot which columns they can convert to a more performant data type.\n",
    "* Take a moment to practice this now. Find another column in the nba dataset that has a generic data type and convert it to a more specific one. You can expand the code block below to see one potential solution:"
   ]
  },
  {
   "cell_type": "code",
   "execution_count": 88,
   "metadata": {},
   "outputs": [
    {
     "data": {
      "text/plain": [
       "2"
      ]
     },
     "execution_count": 88,
     "metadata": {},
     "output_type": "execute_result"
    }
   ],
   "source": [
    "df[\"game_result\"].nunique()"
   ]
  },
  {
   "cell_type": "code",
   "execution_count": 89,
   "metadata": {},
   "outputs": [
    {
     "data": {
      "text/plain": [
       "L    63157\n",
       "W    63157\n",
       "Name: game_result, dtype: int64"
      ]
     },
     "execution_count": 89,
     "metadata": {},
     "output_type": "execute_result"
    }
   ],
   "source": [
    "df[\"game_result\"].value_counts()"
   ]
  },
  {
   "cell_type": "code",
   "execution_count": 90,
   "metadata": {},
   "outputs": [],
   "source": [
    "# To improve performance, you can convert it into a categorical column:\n",
    "\n",
    "df[\"game_result\"] = pd.Categorical(df[\"game_result\"])"
   ]
  },
  {
   "cell_type": "markdown",
   "metadata": {},
   "source": [
    "* As you work with more massive datasets, memory savings becomes especially crucial. Be sure to keep performance in mind as you continue to explore your datasets.\n",
    "\n",
    "### Cleaning Data\n",
    "* You may be surprised to find this section so late in the tutorial! Usually, you’d take a critical look at your dataset to fix any issues before you move on to a more sophisticated analysis. However, in this tutorial, you’ll rely on the techniques that you’ve learned in the previous sections to clean your dataset.\n",
    "\n",
    "#### Missing Values\n",
    "* Have you ever wondered why .info() shows how many non-null values a column contains? The reason why is that this is vital information. Null values often indicate a problem in the data-gathering process. They can make several analysis techniques, like different types of machine learning, difficult or even impossible.\n",
    "\n",
    "* When you inspect the nba dataset with nba.info(), you’ll see that it’s quite neat. Only the column notes contains null values for the majority of its rows:\n",
    "\n",
    "![](https://files.realpython.com/media/info.80fdd50f4ff7.png)\n",
    "\n",
    "* This output shows that the notes column has only 5424 non-null values. That means that over 120,000 rows of your dataset have null values in this column.\n",
    "\n",
    "* Sometimes, the easiest way to deal with records containing missing values is to ignore them. You can remove all the rows with missing values using .dropna():"
   ]
  },
  {
   "cell_type": "code",
   "execution_count": 91,
   "metadata": {},
   "outputs": [
    {
     "data": {
      "text/plain": [
       "(5424, 24)"
      ]
     },
     "execution_count": 91,
     "metadata": {},
     "output_type": "execute_result"
    }
   ],
   "source": [
    "rows_without_missing_data = nba.dropna()\n",
    "rows_without_missing_data.shape"
   ]
  },
  {
   "cell_type": "markdown",
   "metadata": {},
   "source": [
    "* Of course, this kind of data cleanup doesn’t make sense for your nba dataset, because it’s not a problem for a game to lack notes. But if your dataset contains a million valid records and a hundred where relevant data is missing, then dropping the incomplete records can be a reasonable solution.\n",
    "\n",
    "* You can also drop problematic columns if they’re not relevant for your analysis. To do this, use .dropna() again and provide the axis=1 parameter:"
   ]
  },
  {
   "cell_type": "code",
   "execution_count": 92,
   "metadata": {},
   "outputs": [
    {
     "data": {
      "text/plain": [
       "(126314, 23)"
      ]
     },
     "execution_count": 92,
     "metadata": {},
     "output_type": "execute_result"
    }
   ],
   "source": [
    "data_without_missing_columns = nba.dropna(axis=1)\n",
    "data_without_missing_columns.shape"
   ]
  },
  {
   "cell_type": "markdown",
   "metadata": {},
   "source": [
    "* Now, the resulting DataFrame contains all 126,314 games, but not the sometimes empty notes column.\n",
    "\n",
    "* If there’s a meaningful default value for your use case, then you can also replace the missing values with that:"
   ]
  },
  {
   "cell_type": "code",
   "execution_count": 93,
   "metadata": {},
   "outputs": [
    {
     "data": {
      "text/plain": [
       "count              126314\n",
       "unique                232\n",
       "top       no notes at all\n",
       "freq               120890\n",
       "Name: notes, dtype: object"
      ]
     },
     "execution_count": 93,
     "metadata": {},
     "output_type": "execute_result"
    }
   ],
   "source": [
    "# Here, you fill the empty notes rows with the string \"no notes at all\".\n",
    "\n",
    "data_with_default_notes = nba.copy()\n",
    "data_with_default_notes[\"notes\"].fillna(\n",
    "value=\"no notes at all\",\n",
    "inplace=True)\n",
    "\n",
    "data_with_default_notes[\"notes\"].describe()"
   ]
  },
  {
   "cell_type": "markdown",
   "metadata": {},
   "source": [
    "### Invalid Values\n",
    "* **Invalid values** can be even more dangerous than missing values. Often, you can perform your data analysis as expected, but the results you get are peculiar. This is especially important if your dataset is enormous or used manual entry. Invalid values are often more challenging to detect, but you can implement some sanity checks with queries and aggregations.\n",
    "* One thing you can do is validate the ranges of your data. For this, .describe() is quite handy. Recall that it returns the following output:\n",
    "\n",
    "![](https://files.realpython.com/media/describe.0be00956e704.png)\n",
    "\n",
    "* The year_id varies between 1947 and 2015. That sounds plausible.\n",
    "\n",
    "* What about pts? How can the minimum be 0? Let’s have a look at those games:"
   ]
  },
  {
   "cell_type": "code",
   "execution_count": 94,
   "metadata": {},
   "outputs": [
    {
     "data": {
      "text/html": [
       "<div>\n",
       "<style scoped>\n",
       "    .dataframe tbody tr th:only-of-type {\n",
       "        vertical-align: middle;\n",
       "    }\n",
       "\n",
       "    .dataframe tbody tr th {\n",
       "        vertical-align: top;\n",
       "    }\n",
       "\n",
       "    .dataframe thead th {\n",
       "        text-align: right;\n",
       "    }\n",
       "</style>\n",
       "<table border=\"1\" class=\"dataframe\">\n",
       "  <thead>\n",
       "    <tr style=\"text-align: right;\">\n",
       "      <th></th>\n",
       "      <th>gameorder</th>\n",
       "      <th>game_id</th>\n",
       "      <th>lg_id</th>\n",
       "      <th>_iscopy</th>\n",
       "      <th>year_id</th>\n",
       "      <th>date_game</th>\n",
       "      <th>seasongame</th>\n",
       "      <th>is_playoffs</th>\n",
       "      <th>team_id</th>\n",
       "      <th>fran_id</th>\n",
       "      <th>pts</th>\n",
       "      <th>elo_i</th>\n",
       "      <th>elo_n</th>\n",
       "      <th>win_equiv</th>\n",
       "      <th>opp_id</th>\n",
       "      <th>opp_fran</th>\n",
       "      <th>opp_pts</th>\n",
       "      <th>opp_elo_i</th>\n",
       "      <th>opp_elo_n</th>\n",
       "      <th>game_location</th>\n",
       "      <th>game_result</th>\n",
       "      <th>forecast</th>\n",
       "      <th>notes</th>\n",
       "      <th>date_played</th>\n",
       "    </tr>\n",
       "  </thead>\n",
       "  <tbody>\n",
       "    <tr>\n",
       "      <th>26684</th>\n",
       "      <td>13343</td>\n",
       "      <td>197210260VIR</td>\n",
       "      <td>ABA</td>\n",
       "      <td>1</td>\n",
       "      <td>1973</td>\n",
       "      <td>10/26/1972</td>\n",
       "      <td>7</td>\n",
       "      <td>0</td>\n",
       "      <td>DNR</td>\n",
       "      <td>Nuggets</td>\n",
       "      <td>0</td>\n",
       "      <td>1460.34</td>\n",
       "      <td>1457.45</td>\n",
       "      <td>40.41</td>\n",
       "      <td>VIR</td>\n",
       "      <td>Squires</td>\n",
       "      <td>2</td>\n",
       "      <td>1484.19</td>\n",
       "      <td>1487.08</td>\n",
       "      <td>A</td>\n",
       "      <td>L</td>\n",
       "      <td>0.33</td>\n",
       "      <td>at Richmond VA; forfeit to VIR</td>\n",
       "      <td>1972-10-26</td>\n",
       "    </tr>\n",
       "  </tbody>\n",
       "</table>\n",
       "</div>"
      ],
      "text/plain": [
       "       gameorder       game_id lg_id  _iscopy  year_id   date_game  \\\n",
       "26684      13343  197210260VIR   ABA        1     1973  10/26/1972   \n",
       "\n",
       "       seasongame  is_playoffs team_id  fran_id  pts    elo_i    elo_n  \\\n",
       "26684           7            0     DNR  Nuggets    0  1460.34  1457.45   \n",
       "\n",
       "       win_equiv opp_id opp_fran  opp_pts  opp_elo_i  opp_elo_n game_location  \\\n",
       "26684      40.41    VIR  Squires        2    1484.19    1487.08             A   \n",
       "\n",
       "      game_result  forecast                           notes date_played  \n",
       "26684           L      0.33  at Richmond VA; forfeit to VIR  1972-10-26  "
      ]
     },
     "execution_count": 94,
     "metadata": {},
     "output_type": "execute_result"
    }
   ],
   "source": [
    "nba[nba[\"pts\"] == 0]"
   ]
  },
  {
   "cell_type": "markdown",
   "metadata": {},
   "source": [
    "* It seems the game was forfeited. Depending on your analysis, you may want to remove it from the dataset.\n",
    "\n",
    "#### Inconsistent Values\n",
    "* Sometimes a value would be entirely realistic in and of itself, but it doesn’t fit with the values in the other columns. You can define some query criteria that are mutually exclusive and verify that these don’t occur together.\n",
    "\n",
    "* In the NBA dataset, the values of the fields pts, opp_pts and game_result should be consistent with each other. You can check this using the .empty attribute:"
   ]
  },
  {
   "cell_type": "code",
   "execution_count": 95,
   "metadata": {},
   "outputs": [
    {
     "data": {
      "text/plain": [
       "True"
      ]
     },
     "execution_count": 95,
     "metadata": {},
     "output_type": "execute_result"
    }
   ],
   "source": [
    "nba[(nba[\"pts\"] > nba[\"opp_pts\"]) & (nba[\"game_result\"] != 'W')].empty"
   ]
  },
  {
   "cell_type": "code",
   "execution_count": 96,
   "metadata": {},
   "outputs": [
    {
     "data": {
      "text/plain": [
       "True"
      ]
     },
     "execution_count": 96,
     "metadata": {},
     "output_type": "execute_result"
    }
   ],
   "source": [
    "nba[(nba[\"pts\"] < nba[\"opp_pts\"]) & (nba[\"game_result\"] != 'L')].empty"
   ]
  },
  {
   "cell_type": "markdown",
   "metadata": {},
   "source": [
    "* Fortunately, both of these queries return an empty DataFrame.\n",
    "\n",
    "* Be prepared for surprises whenever you’re working with raw datasets, especially if they were gathered from different sources or through a complex pipeline. You might see rows where a team scored more points than their opponent, but still didn’t win—at least, according to your dataset! To avoid situations like this, make sure you add further data cleaning techniques to your Pandas and Python arsenal.\n",
    "\n",
    "### Combining Multiple Datasets\n",
    "* In the previous section, you’ve learned how to clean a messy dataset. Another aspect of real-world data is that it often comes in multiple pieces. In this section, you’ll learn how to grab those pieces and combine them into one dataset that’s ready for analysis.\n",
    "\n",
    "* Earlier, you combined two Series objects into a DataFrame based on their indices. Now, you’ll take this one step further and use `.concat()` to combine city_data with another DataFrame. Say you’ve managed to gather some data on two more cities:"
   ]
  },
  {
   "cell_type": "code",
   "execution_count": 97,
   "metadata": {},
   "outputs": [],
   "source": [
    "further_city_data = pd.DataFrame(\n",
    "{\"revenue\": [7000, 3400], \"employee_count\":[2, 2]},\n",
    "index=[\"New York\", \"Barcelona\"]\n",
    ")"
   ]
  },
  {
   "cell_type": "markdown",
   "metadata": {},
   "source": [
    "* This second DataFrame contains info on the cities \"New York\" and \"Barcelona\".\n",
    "\n",
    "* You can add these cities to city_data using `.concat()`:"
   ]
  },
  {
   "cell_type": "code",
   "execution_count": 98,
   "metadata": {},
   "outputs": [
    {
     "data": {
      "text/html": [
       "<div>\n",
       "<style scoped>\n",
       "    .dataframe tbody tr th:only-of-type {\n",
       "        vertical-align: middle;\n",
       "    }\n",
       "\n",
       "    .dataframe tbody tr th {\n",
       "        vertical-align: top;\n",
       "    }\n",
       "\n",
       "    .dataframe thead th {\n",
       "        text-align: right;\n",
       "    }\n",
       "</style>\n",
       "<table border=\"1\" class=\"dataframe\">\n",
       "  <thead>\n",
       "    <tr style=\"text-align: right;\">\n",
       "      <th></th>\n",
       "      <th>revenue</th>\n",
       "      <th>employee_count</th>\n",
       "    </tr>\n",
       "  </thead>\n",
       "  <tbody>\n",
       "    <tr>\n",
       "      <th>Amsterdam</th>\n",
       "      <td>4200</td>\n",
       "      <td>5.0</td>\n",
       "    </tr>\n",
       "    <tr>\n",
       "      <th>Tokyo</th>\n",
       "      <td>6500</td>\n",
       "      <td>8.0</td>\n",
       "    </tr>\n",
       "    <tr>\n",
       "      <th>Toronto</th>\n",
       "      <td>8000</td>\n",
       "      <td>NaN</td>\n",
       "    </tr>\n",
       "    <tr>\n",
       "      <th>New York</th>\n",
       "      <td>7000</td>\n",
       "      <td>2.0</td>\n",
       "    </tr>\n",
       "    <tr>\n",
       "      <th>Barcelona</th>\n",
       "      <td>3400</td>\n",
       "      <td>2.0</td>\n",
       "    </tr>\n",
       "  </tbody>\n",
       "</table>\n",
       "</div>"
      ],
      "text/plain": [
       "           revenue  employee_count\n",
       "Amsterdam     4200             5.0\n",
       "Tokyo         6500             8.0\n",
       "Toronto       8000             NaN\n",
       "New York      7000             2.0\n",
       "Barcelona     3400             2.0"
      ]
     },
     "execution_count": 98,
     "metadata": {},
     "output_type": "execute_result"
    }
   ],
   "source": [
    "all_city_data = pd.concat([city_data, further_city_data], sort=False)\n",
    "all_city_data"
   ]
  },
  {
   "cell_type": "markdown",
   "metadata": {},
   "source": [
    "* Now, the new variable all_city_data contains the values from both DataFrame objects.\n",
    "* By default, `concat()` combines along axis=0. In other words, it appends rows. You can also use it to append columns by supplying the parameter axis=1:"
   ]
  },
  {
   "cell_type": "code",
   "execution_count": 99,
   "metadata": {},
   "outputs": [],
   "source": [
    "city_countries = pd.DataFrame({\n",
    "\"country\": [\"Holland\", \"Japan\", \"Holland\", \"Canada\", \"Spain\"],\n",
    "\"capital\": [1, 1, 0, 0, 0]},\n",
    "index=[\"Amsterdam\", \"Tokyo\", \"Rotterdam\", \"Toronto\", \"Barcelona\"]\n",
    ")"
   ]
  },
  {
   "cell_type": "code",
   "execution_count": 100,
   "metadata": {},
   "outputs": [],
   "source": [
    "cities = pd.concat([all_city_data, city_countries], axis=1, sort=False)"
   ]
  },
  {
   "cell_type": "code",
   "execution_count": 101,
   "metadata": {},
   "outputs": [
    {
     "data": {
      "text/html": [
       "<div>\n",
       "<style scoped>\n",
       "    .dataframe tbody tr th:only-of-type {\n",
       "        vertical-align: middle;\n",
       "    }\n",
       "\n",
       "    .dataframe tbody tr th {\n",
       "        vertical-align: top;\n",
       "    }\n",
       "\n",
       "    .dataframe thead th {\n",
       "        text-align: right;\n",
       "    }\n",
       "</style>\n",
       "<table border=\"1\" class=\"dataframe\">\n",
       "  <thead>\n",
       "    <tr style=\"text-align: right;\">\n",
       "      <th></th>\n",
       "      <th>revenue</th>\n",
       "      <th>employee_count</th>\n",
       "      <th>country</th>\n",
       "      <th>capital</th>\n",
       "    </tr>\n",
       "  </thead>\n",
       "  <tbody>\n",
       "    <tr>\n",
       "      <th>Amsterdam</th>\n",
       "      <td>4200.0</td>\n",
       "      <td>5.0</td>\n",
       "      <td>Holland</td>\n",
       "      <td>1.0</td>\n",
       "    </tr>\n",
       "    <tr>\n",
       "      <th>Tokyo</th>\n",
       "      <td>6500.0</td>\n",
       "      <td>8.0</td>\n",
       "      <td>Japan</td>\n",
       "      <td>1.0</td>\n",
       "    </tr>\n",
       "    <tr>\n",
       "      <th>Toronto</th>\n",
       "      <td>8000.0</td>\n",
       "      <td>NaN</td>\n",
       "      <td>Canada</td>\n",
       "      <td>0.0</td>\n",
       "    </tr>\n",
       "    <tr>\n",
       "      <th>New York</th>\n",
       "      <td>7000.0</td>\n",
       "      <td>2.0</td>\n",
       "      <td>NaN</td>\n",
       "      <td>NaN</td>\n",
       "    </tr>\n",
       "    <tr>\n",
       "      <th>Barcelona</th>\n",
       "      <td>3400.0</td>\n",
       "      <td>2.0</td>\n",
       "      <td>Spain</td>\n",
       "      <td>0.0</td>\n",
       "    </tr>\n",
       "    <tr>\n",
       "      <th>Rotterdam</th>\n",
       "      <td>NaN</td>\n",
       "      <td>NaN</td>\n",
       "      <td>Holland</td>\n",
       "      <td>0.0</td>\n",
       "    </tr>\n",
       "  </tbody>\n",
       "</table>\n",
       "</div>"
      ],
      "text/plain": [
       "           revenue  employee_count  country  capital\n",
       "Amsterdam   4200.0             5.0  Holland      1.0\n",
       "Tokyo       6500.0             8.0    Japan      1.0\n",
       "Toronto     8000.0             NaN   Canada      0.0\n",
       "New York    7000.0             2.0      NaN      NaN\n",
       "Barcelona   3400.0             2.0    Spain      0.0\n",
       "Rotterdam      NaN             NaN  Holland      0.0"
      ]
     },
     "execution_count": 101,
     "metadata": {},
     "output_type": "execute_result"
    }
   ],
   "source": [
    "cities"
   ]
  },
  {
   "cell_type": "markdown",
   "metadata": {},
   "source": [
    "* Note how Pandas added NaN for the missing values. If you want to combine only the cities that appear in both DataFrame objects, then you can set the join parameter to inner:\n",
    "* While it’s most straightforward to combine data based on the index, it’s not the only possibility. You can use `.merge()` to implement a join operation similar to the one from SQL"
   ]
  },
  {
   "cell_type": "code",
   "execution_count": 102,
   "metadata": {},
   "outputs": [],
   "source": [
    "countries = pd.DataFrame({\n",
    "\"population_millions\": [17, 127, 37],\n",
    "\"continent\": [\"Europe\", \"Asia\", \"North America\"]\n",
    "}, index= [\"Holland\", \"Japan\", \"Canada\"])"
   ]
  },
  {
   "cell_type": "code",
   "execution_count": 103,
   "metadata": {},
   "outputs": [
    {
     "data": {
      "text/html": [
       "<div>\n",
       "<style scoped>\n",
       "    .dataframe tbody tr th:only-of-type {\n",
       "        vertical-align: middle;\n",
       "    }\n",
       "\n",
       "    .dataframe tbody tr th {\n",
       "        vertical-align: top;\n",
       "    }\n",
       "\n",
       "    .dataframe thead th {\n",
       "        text-align: right;\n",
       "    }\n",
       "</style>\n",
       "<table border=\"1\" class=\"dataframe\">\n",
       "  <thead>\n",
       "    <tr style=\"text-align: right;\">\n",
       "      <th></th>\n",
       "      <th>revenue</th>\n",
       "      <th>employee_count</th>\n",
       "      <th>country</th>\n",
       "      <th>capital</th>\n",
       "      <th>population_millions</th>\n",
       "      <th>continent</th>\n",
       "    </tr>\n",
       "  </thead>\n",
       "  <tbody>\n",
       "    <tr>\n",
       "      <th>Amsterdam</th>\n",
       "      <td>4200.0</td>\n",
       "      <td>5.0</td>\n",
       "      <td>Holland</td>\n",
       "      <td>1.0</td>\n",
       "      <td>17</td>\n",
       "      <td>Europe</td>\n",
       "    </tr>\n",
       "    <tr>\n",
       "      <th>Rotterdam</th>\n",
       "      <td>NaN</td>\n",
       "      <td>NaN</td>\n",
       "      <td>Holland</td>\n",
       "      <td>0.0</td>\n",
       "      <td>17</td>\n",
       "      <td>Europe</td>\n",
       "    </tr>\n",
       "    <tr>\n",
       "      <th>Tokyo</th>\n",
       "      <td>6500.0</td>\n",
       "      <td>8.0</td>\n",
       "      <td>Japan</td>\n",
       "      <td>1.0</td>\n",
       "      <td>127</td>\n",
       "      <td>Asia</td>\n",
       "    </tr>\n",
       "    <tr>\n",
       "      <th>Toronto</th>\n",
       "      <td>8000.0</td>\n",
       "      <td>NaN</td>\n",
       "      <td>Canada</td>\n",
       "      <td>0.0</td>\n",
       "      <td>37</td>\n",
       "      <td>North America</td>\n",
       "    </tr>\n",
       "  </tbody>\n",
       "</table>\n",
       "</div>"
      ],
      "text/plain": [
       "           revenue  employee_count  country  capital  population_millions  \\\n",
       "Amsterdam   4200.0             5.0  Holland      1.0                   17   \n",
       "Rotterdam      NaN             NaN  Holland      0.0                   17   \n",
       "Tokyo       6500.0             8.0    Japan      1.0                  127   \n",
       "Toronto     8000.0             NaN   Canada      0.0                   37   \n",
       "\n",
       "               continent  \n",
       "Amsterdam         Europe  \n",
       "Rotterdam         Europe  \n",
       "Tokyo               Asia  \n",
       "Toronto    North America  "
      ]
     },
     "execution_count": 103,
     "metadata": {},
     "output_type": "execute_result"
    }
   ],
   "source": [
    "pd.merge(cities, countries, left_on=\"country\", right_index=True)"
   ]
  },
  {
   "cell_type": "markdown",
   "metadata": {},
   "source": [
    "* Here, you pass the parameter left_on=\"country\" to .merge() to indicate what column you want to join on. The result is a bigger DataFrame that contains not only city data, but also the population and continent of the respective countries:\n",
    "\n",
    "![](https://files.realpython.com/media/merge.2725ee7f0ea9.png)\n",
    "\n",
    "* Note that the result contains only the cities where the country is known and appears in the joined DataFrame.\n",
    "* `.merge()` performs an inner join by default. If you want to include all cities in the result, then you need to provide the how parameter:"
   ]
  },
  {
   "cell_type": "code",
   "execution_count": 104,
   "metadata": {},
   "outputs": [
    {
     "data": {
      "text/html": [
       "<div>\n",
       "<style scoped>\n",
       "    .dataframe tbody tr th:only-of-type {\n",
       "        vertical-align: middle;\n",
       "    }\n",
       "\n",
       "    .dataframe tbody tr th {\n",
       "        vertical-align: top;\n",
       "    }\n",
       "\n",
       "    .dataframe thead th {\n",
       "        text-align: right;\n",
       "    }\n",
       "</style>\n",
       "<table border=\"1\" class=\"dataframe\">\n",
       "  <thead>\n",
       "    <tr style=\"text-align: right;\">\n",
       "      <th></th>\n",
       "      <th>revenue</th>\n",
       "      <th>employee_count</th>\n",
       "      <th>country</th>\n",
       "      <th>capital</th>\n",
       "      <th>population_millions</th>\n",
       "      <th>continent</th>\n",
       "    </tr>\n",
       "  </thead>\n",
       "  <tbody>\n",
       "    <tr>\n",
       "      <th>Amsterdam</th>\n",
       "      <td>4200.0</td>\n",
       "      <td>5.0</td>\n",
       "      <td>Holland</td>\n",
       "      <td>1.0</td>\n",
       "      <td>17.0</td>\n",
       "      <td>Europe</td>\n",
       "    </tr>\n",
       "    <tr>\n",
       "      <th>Tokyo</th>\n",
       "      <td>6500.0</td>\n",
       "      <td>8.0</td>\n",
       "      <td>Japan</td>\n",
       "      <td>1.0</td>\n",
       "      <td>127.0</td>\n",
       "      <td>Asia</td>\n",
       "    </tr>\n",
       "    <tr>\n",
       "      <th>Toronto</th>\n",
       "      <td>8000.0</td>\n",
       "      <td>NaN</td>\n",
       "      <td>Canada</td>\n",
       "      <td>0.0</td>\n",
       "      <td>37.0</td>\n",
       "      <td>North America</td>\n",
       "    </tr>\n",
       "    <tr>\n",
       "      <th>New York</th>\n",
       "      <td>7000.0</td>\n",
       "      <td>2.0</td>\n",
       "      <td>NaN</td>\n",
       "      <td>NaN</td>\n",
       "      <td>NaN</td>\n",
       "      <td>NaN</td>\n",
       "    </tr>\n",
       "    <tr>\n",
       "      <th>Barcelona</th>\n",
       "      <td>3400.0</td>\n",
       "      <td>2.0</td>\n",
       "      <td>Spain</td>\n",
       "      <td>0.0</td>\n",
       "      <td>NaN</td>\n",
       "      <td>NaN</td>\n",
       "    </tr>\n",
       "    <tr>\n",
       "      <th>Rotterdam</th>\n",
       "      <td>NaN</td>\n",
       "      <td>NaN</td>\n",
       "      <td>Holland</td>\n",
       "      <td>0.0</td>\n",
       "      <td>17.0</td>\n",
       "      <td>Europe</td>\n",
       "    </tr>\n",
       "  </tbody>\n",
       "</table>\n",
       "</div>"
      ],
      "text/plain": [
       "           revenue  employee_count  country  capital  population_millions  \\\n",
       "Amsterdam   4200.0             5.0  Holland      1.0                 17.0   \n",
       "Tokyo       6500.0             8.0    Japan      1.0                127.0   \n",
       "Toronto     8000.0             NaN   Canada      0.0                 37.0   \n",
       "New York    7000.0             2.0      NaN      NaN                  NaN   \n",
       "Barcelona   3400.0             2.0    Spain      0.0                  NaN   \n",
       "Rotterdam      NaN             NaN  Holland      0.0                 17.0   \n",
       "\n",
       "               continent  \n",
       "Amsterdam         Europe  \n",
       "Tokyo               Asia  \n",
       "Toronto    North America  \n",
       "New York             NaN  \n",
       "Barcelona            NaN  \n",
       "Rotterdam         Europe  "
      ]
     },
     "execution_count": 104,
     "metadata": {},
     "output_type": "execute_result"
    }
   ],
   "source": [
    "#With this left join, you’ll see all the cities, including those without country data:\n",
    "\n",
    "pd.merge(\n",
    "cities,\n",
    "countries,\n",
    "left_on=\"country\",\n",
    "right_index=True,\n",
    "how=\"left\"\n",
    ")"
   ]
  },
  {
   "cell_type": "markdown",
   "metadata": {},
   "source": [
    "### Visualizing Your Pandas DataFrame\n",
    "* Data visualization is one of the things that works much better in a Jupyter notebook than in a terminal, so go ahead and fire one up. \n",
    "\n",
    "* We'll use `matplotlib`"
   ]
  },
  {
   "cell_type": "code",
   "execution_count": 105,
   "metadata": {},
   "outputs": [],
   "source": [
    "# let's import matplotlib again as plt\n",
    "\n",
    "import matplotlib as plt"
   ]
  },
  {
   "cell_type": "markdown",
   "metadata": {},
   "source": [
    "* Both Series and DataFrame objects have a .plot() method, which is a wrapper around `matplotlib.pyplot.plot()`. By default, it creates a line plot. Visualize how many points the Knicks scored throughout the seasons:"
   ]
  },
  {
   "cell_type": "code",
   "execution_count": 106,
   "metadata": {},
   "outputs": [
    {
     "data": {
      "image/png": "[encoded data removed]",
      "text/plain": [
       "<Figure size 432x288 with 1 Axes>"
      ]
     },
     "metadata": {
      "needs_background": "light"
     },
     "output_type": "display_data"
    }
   ],
   "source": [
    "# This shows a line plot with several peaks and two notable valleys around the years 2000 \n",
    "# and 2010:\n",
    "\n",
    "# We add ; at the end to get rid of the weird text on top\n",
    "\n",
    "nba[nba[\"fran_id\"] == \"Knicks\"].groupby(\"year_id\")[\"pts\"].sum().plot();"
   ]
  },
  {
   "cell_type": "code",
   "execution_count": 107,
   "metadata": {},
   "outputs": [
    {
     "data": {
      "image/png": "[encoded data removed]",
      "text/plain": [
       "<Figure size 432x288 with 1 Axes>"
      ]
     },
     "metadata": {
      "needs_background": "light"
     },
     "output_type": "display_data"
    }
   ],
   "source": [
    "# You can also create other types of plots, like a bar plot:\n",
    "\n",
    "nba[\"fran_id\"].value_counts().head(10).plot(kind=\"bar\");"
   ]
  },
  {
   "cell_type": "markdown",
   "metadata": {},
   "source": [
    "* The Lakers are leading the Celtics by a minimal edge, and there are six further teams with a game count above 5000.\n",
    "\n",
    "* Now try a more complicated exercise. In 2013, the Miami Heat won the championship. Create a pie plot showing the count of their wins and losses during that season. Then, expand the code block to see a solution:\n",
    "\n",
    "* First, you define a criteria to include only the Heat’s games from 2013. Then, you create a plot in the same way as you’ve seen above:"
   ]
  },
  {
   "cell_type": "code",
   "execution_count": 108,
   "metadata": {
    "scrolled": true
   },
   "outputs": [
    {
     "data": {
      "image/png": "[encoded data removed]",
      "text/plain": [
       "<Figure size 432x288 with 1 Axes>"
      ]
     },
     "metadata": {},
     "output_type": "display_data"
    }
   ],
   "source": [
    "# Here’s what a champion pie looks like:\n",
    "\n",
    "nba[\n",
    "(nba[\"fran_id\"] == \"Heat\") &\n",
    "(nba[\"year_id\"] == 2013)\n",
    "][\"game_result\"].value_counts().plot(kind=\"pie\");"
   ]
  },
  {
   "cell_type": "markdown",
   "metadata": {},
   "source": [
    "* Sometimes, the numbers speak for themselves, but often a chart helps a lot with communicating your insights. To learn more about visualizing your data, check out [Interactive Data Visualization in Python With Bokeh](https://realpython.com/python-data-visualization-bokeh/)."
   ]
  },
  {
   "cell_type": "markdown",
   "metadata": {},
   "source": [
    "### Conclusion\n",
    "* In this tutorial, you’ve learned how to start exploring a dataset with the Pandas Python library. You saw how you could access specific rows and columns to tame even the largest of datasets. Speaking of taming, you’ve also seen multiple techniques to prepare and clean your data, by specifying the data type of columns, dealing with missing values, and more. You’ve even created queries, aggregations, and plots based on those.\n",
    "\n",
    "* Now you can:\n",
    "\n",
    "    * Work with Series and DataFrame objects\n",
    "    * Subset your data with .loc, .iloc, and the indexing operator\n",
    "    * Answer questions with queries, grouping, and aggregation\n",
    "    * Handle missing, invalid, and inconsistent data\n",
    "    * Visualize your dataset in a Jupyter notebook\n",
    "* This journey using the NBA stats only scratches the surface of what you can do with the Pandas Python library. You can power up your project with Pandas tricks, learn techniques to speed up Pandas in Python, and even dive deep to see how Pandas works behind the scenes. There are many more features for you to discover, so get out there and tackle those datasets!"
   ]
  },
  {
   "cell_type": "markdown",
   "metadata": {},
   "source": [
    "**Louai Al Jabi**\n"
   ]
  },
  {
   "cell_type": "code",
   "execution_count": null,
   "metadata": {},
   "outputs": [],
   "source": []
  },
  {
   "cell_type": "code",
   "execution_count": 7,
   "metadata": {},
   "outputs": [
    {
     "data": {
      "text/plain": [
       "4"
      ]
     },
     "execution_count": 7,
     "metadata": {},
     "output_type": "execute_result"
    }
   ],
   "source": [
    "dict = {\"key1\":5,\"key2\":4}\n",
    "dict[\"key2\"]"
   ]
  },
  {
   "cell_type": "code",
   "execution_count": null,
   "metadata": {},
   "outputs": [],
   "source": [
    "df['ColumnA'] = df[df.columns[1:]].apply(lambda x: ','.join(x.dropna().astype(datetime)),axis=1)"
   ]
  }
 ],
 "metadata": {
  "kernelspec": {
   "display_name": "Python 3 (ipykernel)",
   "language": "python",
   "name": "python3"
  },
  "language_info": {
   "codemirror_mode": {
    "name": "ipython",
    "version": 3
   },
   "file_extension": ".py",
   "mimetype": "text/x-python",
   "name": "python",
   "nbconvert_exporter": "python",
   "pygments_lexer": "ipython3",
   "version": "3.10.13"
  }
 },
 "nbformat": 4,
 "nbformat_minor": 4
}
